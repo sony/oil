{
 "cells": [
  {
   "cell_type": "code",
   "execution_count": 1,
   "metadata": {},
   "outputs": [],
   "source": [
    "import sys\n",
    "sys.path.append('..')\n",
    "\n",
    "import numpy as np\n",
    "import pandas as pd\n",
    "import matplotlib.pyplot as plt\n",
    "from online.envs.bidding_env import BiddingEnv\n",
    "from definitions import ROOT_DIR, ENV_CONFIG_NAME\n",
    "import json\n",
    "from online.envs.environment_factory import EnvironmentFactory\n",
    "from online.helpers import (\n",
    "    load_model,\n",
    "    load_vecnormalize,\n",
    ")"
   ]
  },
  {
   "cell_type": "markdown",
   "metadata": {},
   "source": []
  },
  {
   "cell_type": "code",
   "execution_count": 2,
   "metadata": {},
   "outputs": [],
   "source": [
    "def getScore_nips(total_conversions, cpa, cpa_constraint):\n",
    "    beta = 2\n",
    "    penalty = 1\n",
    "    if cpa > cpa_constraint:\n",
    "        coef = cpa_constraint / (cpa + 1e-10)\n",
    "        penalty = pow(coef, beta)\n",
    "    return penalty * total_conversions"
   ]
  },
  {
   "cell_type": "code",
   "execution_count": 3,
   "metadata": {},
   "outputs": [],
   "source": [
    "period = 18\n",
    "data_path = ROOT_DIR / \"data\" / \"raw_traffic_final_parquet\" / f\"period-{period}.parquet\"\n",
    "raw_df = pd.read_parquet(data_path)\n",
    "raw_df[\"real_cost\"] = raw_df[\"cost\"] * raw_df[\"isExposed\"]\n"
   ]
  },
  {
   "cell_type": "code",
   "execution_count": null,
   "metadata": {},
   "outputs": [],
   "source": [
    "score_list = []\n",
    "exp_score_list = []\n",
    "for advertiser_id in range(48):\n",
    "    total_conversions = raw_df[(raw_df.advertiserNumber == advertiser_id)].conversionAction.sum()\n",
    "    exp_total_conversions = raw_df[(raw_df.advertiserNumber == advertiser_id) & (raw_df.isExposed == 1)].pValue.sum()\n",
    "    budget = raw_df[(raw_df.advertiserNumber == advertiser_id)].budget.mean()\n",
    "    cpa_target = raw_df[(raw_df.advertiserNumber == advertiser_id)].CPAConstraint.mean()\n",
    "    total_cost = raw_df[(raw_df.advertiserNumber == advertiser_id) & (raw_df.isExposed == 1)].cost.sum()\n",
    "    cpa = total_cost / total_conversions\n",
    "    score = getScore_nips(total_conversions, cpa, cpa_target)\n",
    "    exp_score = getScore_nips(exp_total_conversions, cpa, cpa_target)\n",
    "    score_list.append(score)\n",
    "    exp_score_list.append(exp_score)\n",
    "    # print(f\"Budget: {budget}, Total Cost: {total_cost}, Total Conversions: {total_conversions}, CPA Target: {cpa_target}, CPA: {cpa}, Score: {score}\")\n",
    "print(np.mean(score_list))\n",
    "print(np.mean(exp_score_list))"
   ]
  },
  {
   "cell_type": "code",
   "execution_count": null,
   "metadata": {},
   "outputs": [],
   "source": [
    "plt.plot(score_list, exp_score_list, 'o')\n",
    "plt.plot(sorted(score_list), sorted(score_list), 'r')"
   ]
  },
  {
   "cell_type": "code",
   "execution_count": null,
   "metadata": {},
   "outputs": [],
   "source": [
    "info_df = raw_df.groupby(\"advertiserNumber\").agg({\"budget\": \"mean\", \"CPAConstraint\": \"mean\", \"advertiserCategoryIndex\": \"mean\"}).reset_index()\n",
    "info_df\n"
   ]
  },
  {
   "cell_type": "code",
   "execution_count": null,
   "metadata": {},
   "outputs": [],
   "source": [
    "pvalues_path = ROOT_DIR / \"data\" / \"online_rl_data_final_with_ad_idx\" / f\"period-{period}_pvalues.parquet\"\n",
    "bids_path = ROOT_DIR / \"data\" / \"online_rl_data_final_with_ad_idx\" / f\"period-{period}_bids.parquet\"\n",
    "budget_range = (2000, 5000)\n",
    "target_cpa_range = (60, 130)\n",
    "seed = 0\n",
    "pv_range_list = list(np.linspace(0, 0.005, 101))\n",
    "with open(ROOT_DIR / \"env_configs\" / f\"obs_60_keys.json\", \"r\") as f:\n",
    "    obs_keys = json.load(f)\n",
    "env = BiddingEnv(pvalues_path, bids_path, budget_range, target_cpa_range, obs_keys=obs_keys, exclude_self_bids=True, \n",
    "                 seed=seed, simplified_bidding=False, deterministic_conversion=False, detailed_bid=False, flex_oracle=True,\n",
    "                 stochastic_exposure=True)"
   ]
  },
  {
   "cell_type": "code",
   "execution_count": null,
   "metadata": {},
   "outputs": [],
   "source": [
    "def compute_alpha(ad_df, ts, target_cpa):\n",
    "    bids = ad_df[ad_df.timeStepIndex == ts].bid.to_numpy()\n",
    "    pvalues = ad_df[ad_df.timeStepIndex == ts].pValue.to_numpy()\n",
    "    alpha = np.nanmean(bids[pvalues > 0] / pvalues[pvalues > 0]) / target_cpa\n",
    "    return alpha\n",
    "\n",
    "sim_conv_list = []\n",
    "real_conv_list = []\n",
    "for advertiser_id in range(10, 11):\n",
    "    ad_df = raw_df[raw_df.advertiserNumber == advertiser_id]\n",
    "\n",
    "    campaign_df = ad_df.groupby(\"timeStepIndex\").agg({\n",
    "        \"real_cost\": \"sum\",\n",
    "        \"conversionAction\": \"sum\",\n",
    "        \"xi\": \"sum\",\n",
    "        \"isExposed\": \"sum\",\n",
    "        \"remainingBudget\": \"mean\"})\n",
    "\n",
    "    ad_info = info_df[info_df.advertiserNumber == advertiser_id]\n",
    "    budget = ad_info[\"budget\"].item()\n",
    "    target_cpa = ad_info[\"CPAConstraint\"].item()\n",
    "\n",
    "    obs, _ = env.reset(budget=budget, target_cpa=target_cpa, advertiser=advertiser_id)\n",
    "\n",
    "    done = False\n",
    "    while not done:\n",
    "        step_info = campaign_df[campaign_df.index == env.time_step]\n",
    "        alpha = compute_alpha(ad_df, env.time_step, target_cpa)\n",
    "        obs, reward, terminated, truncated, info = env.step(alpha)\n",
    "        done = terminated or truncated\n",
    "\n",
    "    # # Make 4 subplots for cost, conversions, xi, and isExposed\n",
    "    fig, axs = plt.subplots(2, 2, figsize=(10, 10))\n",
    "    axs[0, 0].plot(env.history_info[\"cost_sum\"], \"o\", label=\"simulated\")\n",
    "    axs[0, 0].plot(campaign_df.real_cost.to_numpy(), label=\"real\")\n",
    "    axs[0, 0].set_title(\"Cost\")\n",
    "    axs[0, 0].legend()\n",
    "    axs[0, 1].plot(env.history_info[\"conversion_count\"], \"o\", label=\"simulated\")\n",
    "    axs[0, 1].plot(campaign_df.conversionAction.to_numpy(), label=\"real\")\n",
    "    axs[0, 1].set_title(\"Conversions\")\n",
    "    axs[0, 1].legend()\n",
    "    axs[1, 0].plot(env.history_info[\"bid_success_count\"], \"o\", label=\"simulated\")\n",
    "    axs[1, 0].plot(campaign_df.xi.to_numpy(), label=\"real\")\n",
    "    axs[1, 0].set_title(\"Xi\")\n",
    "    axs[1, 0].legend()\n",
    "    axs[1, 1].plot(env.history_info[\"exposure_count\"], \"o\", label=\"simulated\")\n",
    "    axs[1, 1].plot(campaign_df.isExposed.to_numpy(), label=\"real\")\n",
    "    axs[1, 1].set_title(\"IsExposed\")\n",
    "    axs[1, 1].legend()\n",
    "\n",
    "    # Compare number of conversions\n",
    "    real_conversions = campaign_df.conversionAction.sum()\n",
    "    sim_conversions = np.sum(env.history_info[\"conversion_count\"])\n",
    "    real_conv_list.append(real_conversions)\n",
    "    sim_conv_list.append(sim_conversions)\n",
    "    print(f\"Real Conversions: {real_conversions}, Simulated Conversions: {sim_conversions}\")\n",
    "    plt.show()\n",
    "print(np.mean(real_conv_list), np.mean(sim_conv_list))\n"
   ]
  },
  {
   "cell_type": "code",
   "execution_count": 10,
   "metadata": {},
   "outputs": [],
   "source": [
    "advertiser_id = 18\n",
    "ts = 10\n",
    "env.reset(advertiser=advertiser_id, budget=2000, target_cpa=100)\n",
    "pvalues = env.episode_pvalues_df[env.episode_pvalues_df.timeStepIndex == ts].pValue.item()\n",
    "\n",
    "ad_df = raw_df[raw_df.advertiserNumber == advertiser_id]\n",
    "pvalues_origin = ad_df[ad_df.timeStepIndex == ts].pValue.to_numpy()"
   ]
  },
  {
   "cell_type": "code",
   "execution_count": null,
   "metadata": {},
   "outputs": [],
   "source": [
    "np.mean(pvalues_origin), np.mean(pvalues)"
   ]
  },
  {
   "cell_type": "code",
   "execution_count": null,
   "metadata": {},
   "outputs": [],
   "source": [
    "exp_path = \"053_onbc_seed_0_new_data_realistic_60_obs_resume_050\"\n",
    "checkpoint = 13170000\n",
    "\n",
    "experiment_path = ROOT_DIR / \"output\" / \"training\" / \"ongoing\" / exp_path\n",
    "model = load_model(\n",
    "    \"onbc\",\n",
    "    experiment_path,\n",
    "    checkpoint,\n",
    ")\n",
    "train_env_config = json.load(open(experiment_path / ENV_CONFIG_NAME, \"r\"))\n",
    "train_env_config[\"bids_df_path\"] = None\n",
    "train_env_config[\"pvalues_df_path\"] = None\n",
    "train_env = EnvironmentFactory.create(**train_env_config)\n",
    "vecnormalize = load_vecnormalize(experiment_path, checkpoint, train_env)\n",
    "vecnormalize.training = False\n"
   ]
  },
  {
   "cell_type": "code",
   "execution_count": null,
   "metadata": {},
   "outputs": [],
   "source": [
    "advertiser_id = 8\n",
    "\n",
    "ad_df = raw_df[raw_df.advertiserNumber == advertiser_id]\n",
    "\n",
    "campaign_df = ad_df.groupby(\"timeStepIndex\").agg({\n",
    "    \"real_cost\": \"sum\",\n",
    "    \"conversionAction\": \"sum\",\n",
    "    \"xi\": \"sum\",\n",
    "    \"isExposed\": \"sum\",\n",
    "    \"remainingBudget\": \"mean\"})\n",
    "\n",
    "ad_info = info_df[info_df.advertiserNumber == advertiser_id]\n",
    "budget = ad_info[\"budget\"].item()\n",
    "target_cpa = ad_info[\"CPAConstraint\"].item()\n",
    "\n",
    "obs, _ = env.reset(budget=budget, target_cpa=target_cpa, advertiser=advertiser_id)\n",
    "\n",
    "done = False\n",
    "while not done:\n",
    "    pvalues, pvalue_sigmas = env.unwrapped.get_pvalues_mean_and_std()\n",
    "    state_dict = env.unwrapped.get_state_dict(pvalues, pvalue_sigmas)\n",
    "    state = train_env.unwrapped.get_state(state_dict)\n",
    "    norm_obs = vecnormalize.normalize_obs(state)\n",
    "    action, _ = model.predict(\n",
    "        norm_obs,\n",
    "        deterministic=True,\n",
    "    )\n",
    "    bid_coef = train_env.unwrapped.compute_bid_coef(\n",
    "        action, pvalues, pvalue_sigmas\n",
    "    )\n",
    "    bids = bid_coef * env.unwrapped.target_cpa\n",
    "    _, reward, terminated, truncated, info = env.unwrapped.place_bids(\n",
    "        bids, pvalues, pvalue_sigmas\n",
    "    )\n",
    "    done = terminated or truncated\n",
    "\n",
    "# Make 4 subplots for cost, conversions, xi, and isExposed\n",
    "fig, axs = plt.subplots(2, 2, figsize=(10, 10))\n",
    "axs[0, 0].plot(env.history_info[\"cost_sum\"], \"o\", label=\"simulated\")\n",
    "axs[0, 0].plot(campaign_df.real_cost.to_numpy(), label=\"real\")\n",
    "axs[0, 0].set_title(\"Cost\")\n",
    "axs[0, 0].legend()\n",
    "axs[0, 1].plot(env.history_info[\"conversion_count\"], \"o\", label=\"simulated\")\n",
    "axs[0, 1].plot(campaign_df.conversionAction.to_numpy(), label=\"real\")\n",
    "axs[0, 1].set_title(\"Conversions\")\n",
    "axs[0, 1].legend()\n",
    "axs[1, 0].plot(env.history_info[\"bid_success_count\"], \"o\", label=\"simulated\")\n",
    "axs[1, 0].plot(campaign_df.xi.to_numpy(), label=\"real\")\n",
    "axs[1, 0].set_title(\"Xi\")\n",
    "axs[1, 0].legend()\n",
    "axs[1, 1].plot(env.history_info[\"exposure_count\"], \"o\", label=\"simulated\")\n",
    "axs[1, 1].plot(campaign_df.isExposed.to_numpy(), label=\"real\")\n",
    "axs[1, 1].set_title(\"IsExposed\")\n",
    "axs[1, 1].legend()\n",
    "\n",
    "# Compare number of conversions\n",
    "real_conversions = campaign_df.conversionAction.sum()\n",
    "sim_conversions = np.sum(env.history_info[\"conversion_count\"])\n",
    "real_conv_list.append(real_conversions)\n",
    "sim_conv_list.append(sim_conversions)\n",
    "print(f\"Real Conversions: {real_conversions}, Simulated Conversions: {sim_conversions}\")\n",
    "\n",
    "plt.show()\n"
   ]
  },
  {
   "cell_type": "code",
   "execution_count": null,
   "metadata": {},
   "outputs": [],
   "source": [
    "num_advertisers = 48\n",
    "num_time_steps = 48\n",
    "period_list = np.arange(7, 28)\n",
    "\n",
    "for period in period_list:\n",
    "    print(\"Period\", period)\n",
    "    pvalues_path = ROOT_DIR / \"data\" / \"online_rl_data_final_with_ad_idx\" / f\"period-{period}_pvalues.parquet\"\n",
    "    bids_path = ROOT_DIR / \"data\" / \"online_rl_data_final_with_ad_idx\" / f\"period-{period}_bids.parquet\"\n",
    "    \n",
    "    with open(ROOT_DIR / \"env_configs\" / f\"obs_60_keys.json\", \"r\") as f:\n",
    "        obs_keys = json.load(f)\n",
    "    env = BiddingEnv(pvalues_path, bids_path, obs_keys=obs_keys, exclude_self_bids=True, \n",
    "                    seed=0, simplified_bidding=False, deterministic_conversion=False,\n",
    "                    stochastic_exposure=False)\n",
    "    \n",
    "    bids_per_ts_list = [[] for _ in  range(num_time_steps)]\n",
    "\n",
    "    for advertiser_id in range(num_advertisers):\n",
    "        print(f\"Advertiser: {advertiser_id}\")\n",
    "        ad_info = info_df[info_df.advertiserNumber == advertiser_id]\n",
    "        budget = ad_info[\"budget\"].item()\n",
    "        target_cpa = ad_info[\"CPAConstraint\"].item()\n",
    "\n",
    "        obs, _ = env.reset(budget=budget, target_cpa=target_cpa, advertiser=advertiser_id)\n",
    "\n",
    "        done = False\n",
    "        ts = 0\n",
    "        while not done:\n",
    "            pvalues, pvalue_sigmas = env.unwrapped.get_pvalues_mean_and_std()\n",
    "            state_dict = env.unwrapped.get_state_dict(pvalues, pvalue_sigmas)\n",
    "            state = train_env.unwrapped.get_state(state_dict)\n",
    "            norm_obs = vecnormalize.normalize_obs(state)\n",
    "            action, _ = model.predict(\n",
    "                norm_obs,\n",
    "                deterministic=True,\n",
    "            )\n",
    "            bid_coef = train_env.unwrapped.compute_bid_coef(\n",
    "                action, pvalues, pvalue_sigmas\n",
    "            )\n",
    "            bids = bid_coef * env.unwrapped.target_cpa\n",
    "            _, reward, terminated, truncated, info = env.unwrapped.place_bids(\n",
    "                bids, pvalues, pvalue_sigmas\n",
    "            )\n",
    "            bids_per_ts_list[ts].append(bids)\n",
    "            done = terminated or truncated\n",
    "            ts += 1\n",
    "        assert ts == 48, ts\n",
    "    \n",
    "    bids_df = env.bids_df.copy()\n",
    "    \n",
    "    # Update the dataset with the collected bids\n",
    "    for ts in range(num_time_steps):\n",
    "        bids = np.stack(bids_per_ts_list[ts]).transpose()\n",
    "        sort_idx = np.argsort(bids, axis=1)\n",
    "        num_impressions = bids.shape[0]\n",
    "\n",
    "        top_bids_ids = sort_idx[:, -3:]\n",
    "        top_cost_ids = sort_idx[:, -4:-1]\n",
    "        top_bids = np.take_along_axis(bids, top_bids_ids, axis=1)\n",
    "        top_bid_costs = np.take_along_axis(bids, top_cost_ids, axis=1)\n",
    "        \n",
    "        # Select rows where timeStepIndex equals current ts\n",
    "        mask = bids_df.timeStepIndex == ts\n",
    "        idx = bids_df.index[mask].item()\n",
    "\n",
    "        bids_df.at[idx, \"bid\"] = top_bids\n",
    "        bids_df.at[idx, \"cost\"] = top_bid_costs\n",
    "        bids_df.at[idx, \"advertiserNumber\"] = top_bids_ids\n",
    "    bids_df[\"bid\"] = bids_df[\"bid\"].apply(lambda x: x.tolist())\n",
    "    bids_df[\"cost\"] = bids_df[\"cost\"].apply(lambda x: x.tolist())\n",
    "    bids_df[\"advertiserNumber\"] = bids_df[\"advertiserNumber\"].apply(lambda x: x.tolist())\n",
    "    bids_df[\"conversionAction\"] = bids_df[\"conversionAction\"].apply(lambda x: x.tolist())\n",
    "    bids_df[\"isExposed\"] = bids_df[\"isExposed\"].apply(lambda x: x.tolist())\n",
    "\n",
    "    out_path = ROOT_DIR / \"data\" / \"online_rl_data_final_expert_bids\" / f\"period-{period}_bids.parquet\"\n",
    "    print(\"Saving to\", out_path)\n",
    "    out_path.parent.mkdir(parents=True, exist_ok=True)\n",
    "    bids_df.to_parquet(out_path)\n",
    "\n"
   ]
  },
  {
   "cell_type": "code",
   "execution_count": null,
   "metadata": {},
   "outputs": [],
   "source": [
    "bids_df.head()"
   ]
  },
  {
   "cell_type": "code",
   "execution_count": null,
   "metadata": {},
   "outputs": [],
   "source": [
    "bids_df.iloc[0].conversionAction"
   ]
  },
  {
   "cell_type": "code",
   "execution_count": 116,
   "metadata": {},
   "outputs": [],
   "source": [
    "idx = bids_df.index[mask].item()\n",
    "\n",
    "bids_df.at[idx, \"bid\"] = top_bids\n",
    "bids_df.at[idx, \"cost\"] = top_bid_costs\n",
    "bids_df.at[idx, \"advertiserNumber\"] = top_bids_ids"
   ]
  },
  {
   "cell_type": "code",
   "execution_count": null,
   "metadata": {},
   "outputs": [],
   "source": [
    "bids_df.loc[idx]"
   ]
  },
  {
   "cell_type": "code",
   "execution_count": null,
   "metadata": {},
   "outputs": [],
   "source": [
    "env.bids_df.loc[idx]"
   ]
  },
  {
   "cell_type": "code",
   "execution_count": null,
   "metadata": {},
   "outputs": [],
   "source": [
    "bids = np.stack(bids_per_ts_list[0]).transpose()\n",
    "bids.shape\n"
   ]
  },
  {
   "cell_type": "code",
   "execution_count": null,
   "metadata": {},
   "outputs": [],
   "source": [
    "sort_idx = np.argsort(bids, axis=1)\n",
    "num_impressions = bids.shape[0]\n",
    "\n",
    "top_bids_ids = sort_idx[:, -3:]\n",
    "top_cost_ids = sort_idx[:, -4:-1]\n",
    "top_bids = np.take_along_axis(bids, top_bids_ids, axis=1)\n",
    "top_bid_costs = np.take_along_axis(bids, top_cost_ids, axis=1)\n",
    "top_bids.shape\n"
   ]
  },
  {
   "cell_type": "code",
   "execution_count": null,
   "metadata": {},
   "outputs": [],
   "source": [
    "env.bids_df.head()"
   ]
  },
  {
   "cell_type": "code",
   "execution_count": null,
   "metadata": {},
   "outputs": [],
   "source": [
    "env.bids_df[env.bids_df.timeStepIndex == ts].bid.item()"
   ]
  }
 ],
 "metadata": {
  "kernelspec": {
   "display_name": "alibaba",
   "language": "python",
   "name": "python3"
  },
  "language_info": {
   "codemirror_mode": {
    "name": "ipython",
    "version": 3
   },
   "file_extension": ".py",
   "mimetype": "text/x-python",
   "name": "python",
   "nbconvert_exporter": "python",
   "pygments_lexer": "ipython3",
   "version": "3.9.12"
  }
 },
 "nbformat": 4,
 "nbformat_minor": 2
}
