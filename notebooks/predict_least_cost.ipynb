{
 "cells": [
  {
   "cell_type": "code",
   "execution_count": null,
   "metadata": {},
   "outputs": [],
   "source": [
    "import sys\n",
    "sys.path.append(\"..\")\n",
    "import numpy as np\n",
    "import pandas as pd\n",
    "import matplotlib.pyplot as plt\n",
    "from definitions import ROOT_DIR\n"
   ]
  },
  {
   "cell_type": "code",
   "execution_count": null,
   "metadata": {},
   "outputs": [],
   "source": [
    "bids_df_path = ROOT_DIR / \"data\" / \"online_rl_data\" / \"bids.parquet\"\n",
    "pvalues_df_path = ROOT_DIR / \"data\" / \"online_rl_data\" / \"pvalues.parquet\"\n",
    "\n",
    "bids_df = pd.read_parquet(bids_df_path)\n",
    "bids_df[\"bid\"] = bids_df[\"bid\"].apply(np.stack)\n",
    "bids_df[\"isExposed\"] = bids_df[\"isExposed\"].apply(np.stack)\n",
    "bids_df[\"cost\"] = bids_df[\"cost\"].apply(np.stack)\n",
    "pvalues_df = pd.read_parquet(pvalues_df_path)"
   ]
  },
  {
   "cell_type": "code",
   "execution_count": null,
   "metadata": {},
   "outputs": [],
   "source": [
    "bids_df.head()"
   ]
  },
  {
   "cell_type": "code",
   "execution_count": null,
   "metadata": {},
   "outputs": [],
   "source": [
    "pvalues_df.head()"
   ]
  },
  {
   "cell_type": "code",
   "execution_count": null,
   "metadata": {},
   "outputs": [],
   "source": [
    "# advertiser_idx = 4\n",
    "# target_cpa = 9\n",
    "\n",
    "# ad_pvalues_df = pvalues_df[pvalues_df[\"advertiserNumber\"] == advertiser_idx]\n",
    "\n",
    "# min_cost_list = []\n",
    "# pvalues_list = []\n",
    "# for ts in ad_pvalues_df.timeStepIndex.unique():\n",
    "#     ts_min_cost = bids_df[bids_df.timeStepIndex == ts].cost.item()[:, 0]\n",
    "#     min_cost_list.append(ts_min_cost)\n",
    "#     ts_pvalues = ad_pvalues_df[ad_pvalues_df.timeStepIndex == ts].pValue.item()\n",
    "#     pvalues_list.append(ts_pvalues)\n",
    "# pvalues = np.concatenate(pvalues_list)\n",
    "# min_cost = np.concatenate(min_cost_list)\n",
    "\n",
    "# # Plot the cost and the pvalues in the lists and color them depending on the ts\n",
    "# for ts, (ts_pvalues, ts_min_cost) in enumerate(zip(pvalues_list, min_cost_list)):\n",
    "#     fig, ax = plt.subplots()\n",
    "#     plt.plot(pvalues, target_cpa * pvalues, \"r-\")\n",
    "#     ax.scatter(ts_pvalues, ts_min_cost, alpha=0.1, s=1, label=f\"ts={ts}\")\n",
    "#     ax.set_xlim(0, pvalues.max())\n",
    "#     ax.set_ylim(0, min_cost.max())\n",
    "#     ax.set_xlabel(\"pValues\")\n",
    "#     ax.set_ylabel(\"Least winning cost\")\n",
    "#     ax.set_title(f\"ts {ts}\")"
   ]
  },
  {
   "cell_type": "code",
   "execution_count": null,
   "metadata": {},
   "outputs": [],
   "source": [
    "target_cpa = 9\n",
    "advertiser_idx = 0\n",
    "\n",
    "# for advertiser_idx in range(28):\n",
    "for period in pvalues_df.deliveryPeriodIndex.unique():\n",
    "    ad_pvalues_df = pvalues_df[(pvalues_df[\"advertiserNumber\"] == advertiser_idx) & (pvalues_df[\"deliveryPeriodIndex\"] == period)]\n",
    "\n",
    "    min_cost_list = []\n",
    "    pvalues_list = []\n",
    "    for ts in ad_pvalues_df.timeStepIndex.unique():\n",
    "        ts_min_cost = bids_df[(bids_df.timeStepIndex == ts) & (bids_df.deliveryPeriodIndex == period)].cost.item()[:, 0]\n",
    "        min_cost_list.append(ts_min_cost)\n",
    "        ts_pvalues = ad_pvalues_df[ad_pvalues_df.timeStepIndex == ts].pValue.item()\n",
    "        pvalues_list.append(ts_pvalues)\n",
    "    pvalues = np.concatenate(pvalues_list)\n",
    "    min_cost = np.concatenate(min_cost_list)\n",
    "\n",
    "    pv_over_cost  = []\n",
    "    for ts_pvalues, ts_min_cost in zip(pvalues_list, min_cost_list):\n",
    "        pv_over_cost.append(ts_pvalues / ts_min_cost)\n",
    "        \n",
    "    fig, ax = plt.subplots()\n",
    "    # ax.plot([np.mean(v) for v in pv_over_cost])\n",
    "    # plot mean and std of pv_over_cost\n",
    "    # ax.errorbar(np.arange(48), [np.mean(v) for v in pv_over_cost], yerr=[np.std(v) for v in pv_over_cost])\n",
    "    \n",
    "    # plot boxplot of pv_over_cost\n",
    "    ax.boxplot(pv_over_cost)\n",
    "    ax.plot(np.arange(48), np.ones(48) / target_cpa, \"r-\")\n",
    "    ax.set_title(f\"Advertiser {advertiser_idx} period {period}\")\n",
    "    fig.show()\n"
   ]
  }
 ],
 "metadata": {
  "kernelspec": {
   "display_name": "alibaba",
   "language": "python",
   "name": "python3"
  },
  "language_info": {
   "codemirror_mode": {
    "name": "ipython",
    "version": 3
   },
   "file_extension": ".py",
   "mimetype": "text/x-python",
   "name": "python",
   "nbconvert_exporter": "python",
   "pygments_lexer": "ipython3",
   "version": "3.9.12"
  }
 },
 "nbformat": 4,
 "nbformat_minor": 2
}
