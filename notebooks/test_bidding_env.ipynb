{
    "cells": [
        {
            "cell_type": "code",
            "execution_count": 2,
            "metadata": {},
            "outputs": [],
            "source": [
                "import sys\n",
                "sys.path.append('..')\n",
                "\n",
                "import numpy as np\n",
                "import pandas as pd\n",
                "import matplotlib.pyplot as plt\n",
                "from online.envs.bidding_env import BiddingEnv\n",
                "from definitions import ROOT_DIR, ENV_CONFIG_NAME\n",
                "import json\n",
                "from online.envs.environment_factory import EnvironmentFactory\n",
                "from online.helpers import (\n",
                "    load_model,\n",
                "    load_vecnormalize,\n",
                ")\n"
            ]
        },
        {
            "cell_type": "code",
            "execution_count": 3,
            "metadata": {},
            "outputs": [
                {
                    "name": "stdout",
                    "output_type": "stream",
                    "text": [
                        "ppo_sparse score, mean: 381.97355311135317 sem: 10.488324261691922\n",
                        "ppo_sparse cost_over_budget, mean: 0.8220034828703601 sem: 0.018733193313775306\n",
                        "ppo_sparse target_cpa_over_cpa, mean: 0.9078177481223705 sem: 0.019355013802386363\n",
                        "ppo_dense score, mean: 384.71483041739765 sem: 13.122858104881388\n",
                        "ppo_dense cost_over_budget, mean: 0.8717259477051423 sem: 0.03976688934857355\n",
                        "ppo_dense target_cpa_over_cpa, mean: 0.907091685798878 sem: 0.024964675779883087\n",
                        "ppo_dense_2_slopes score, mean: 291.5826132472817 sem: 22.40997651749159\n",
                        "ppo_dense_2_slopes cost_over_budget, mean: 0.7811251601010305 sem: 0.021980192838642817\n",
                        "ppo_dense_2_slopes target_cpa_over_cpa, mean: 0.8145846478784388 sem: 0.02082878467962609\n",
                        "oil score, mean: 466.3627880665622 sem: 0.433743930607874\n",
                        "oil cost_over_budget, mean: 0.9870796358164905 sem: 0.0030208227958212664\n",
                        "oil target_cpa_over_cpa, mean: 0.9773958192899498 sem: 0.000761966790040877\n",
                        "oil_2_slopes score, mean: 459.2124847626387 sem: 9.427049571448727\n",
                        "oil_2_slopes cost_over_budget, mean: 0.9732875645891617 sem: 0.0014347672000657543\n",
                        "oil_2_slopes target_cpa_over_cpa, mean: 0.9592574283407312 sem: 0.012180033775417157\n",
                        "oracle score, mean: 503.5401032192024 sem: 0.0\n",
                        "oracle cost_over_budget, mean: 0.9734653093167727 sem: 0.0\n",
                        "oracle target_cpa_over_cpa, mean: 1.0344645506112227 sem: 0.0\n",
                        "oracle_upgrade score, mean: 532.5995306886018 sem: 0.0\n",
                        "oracle_upgrade cost_over_budget, mean: 0.98160053149178 sem: 0.0\n",
                        "oracle_upgrade target_cpa_over_cpa, mean: 1.0619406754125826 sem: 0.0\n",
                        "oracle_upgrade_two_slopes score, mean: 510.85464879205847 sem: 0.0\n",
                        "oracle_upgrade_two_slopes cost_over_budget, mean: 0.9735481495047197 sem: 0.0\n",
                        "oracle_upgrade_two_slopes target_cpa_over_cpa, mean: 1.0397209440323505 sem: 0.0\n",
                        "bc score, mean: 176.1907341553991 sem: 35.574022662949034\n",
                        "bc cost_over_budget, mean: 0.5334850125585282 sem: 0.20576882839972274\n",
                        "bc target_cpa_over_cpa, mean: 1.0346407863612719 sem: 0.19864521874570473\n",
                        "iql_sparse score, mean: 383.34504749422905 sem: 5.920110960446737\n",
                        "iql_sparse cost_over_budget, mean: 0.8020791721797793 sem: 0.039916096976013525\n",
                        "iql_sparse target_cpa_over_cpa, mean: 0.9848589222220255 sem: 0.03644209416320308\n",
                        "iql_dense score, mean: 339.3036438601126 sem: 24.41347761757713\n",
                        "iql_dense cost_over_budget, mean: 0.5998814975136583 sem: 0.06188915970668116\n",
                        "iql_dense target_cpa_over_cpa, mean: 1.140383556886907 sem: 0.0458145297753667\n"
                    ]
                }
            ],
            "source": [
                "path = ROOT_DIR / \"data/results/eval_dense.json\"\n",
                "with open(path, \"r\") as f:\n",
                "    data = json.load(f)\n",
                "    \n",
                "for key, value in data.items():\n",
                "    score_list = []\n",
                "    cost_over_budget_list = []\n",
                "    target_cpa_over_cpa_list = []\n",
                "    for exp in value:\n",
                "        score_list.append(exp[\"score\"][\"mean\"])\n",
                "        cost_over_budget_list.append(exp[\"cost_over_budget\"][\"mean\"])\n",
                "        target_cpa_over_cpa_list.append(exp[\"target_cpa_over_cpa\"][\"mean\"])\n",
                "    print(key, \"score, mean:\", np.mean(score_list), \"sem:\", np.std(score_list) / np.sqrt(len(score_list)))\n",
                "    print(key, \"cost_over_budget, mean:\", np.mean(cost_over_budget_list), \"sem:\", np.std(cost_over_budget_list) / np.sqrt(len(cost_over_budget_list)))\n",
                "    print(key, \"target_cpa_over_cpa, mean:\", np.mean(target_cpa_over_cpa_list), \"sem:\", np.std(target_cpa_over_cpa_list) / np.sqrt(len(target_cpa_over_cpa_list)))\n",
                "    "
            ]
        },
        {
            "cell_type": "code",
            "execution_count": 4,
            "metadata": {},
            "outputs": [
                {
                    "name": "stdout",
                    "output_type": "stream",
                    "text": [
                        "Loading pvalues from /home/ubuntu/Dev/NeurIPS_Auto_Bidding_General_Track_Baseline/data/traffic/online_rl_data_dense/period-27_pvalues.parquet\n"
                    ]
                },
                {
                    "name": "stdout",
                    "output_type": "stream",
                    "text": [
                        "Loading bids from /home/ubuntu/Dev/NeurIPS_Auto_Bidding_General_Track_Baseline/data/traffic/online_rl_data_dense/period-27_bids.parquet\n"
                    ]
                }
            ],
            "source": [
                "pvalues_path = ROOT_DIR / \"data\" / \"traffic\" / \"online_rl_data_dense\" / \"period-27_pvalues.parquet\"\n",
                "bids_path = ROOT_DIR / \"data\" / \"traffic\" / \"online_rl_data_dense\" / \"period-27_bids.parquet\"\n",
                "budget_range = (2000, 5000)\n",
                "target_cpa_range = (60, 130)\n",
                "seed = 0\n",
                "pv_range_list = list(np.linspace(0, 0.005, 101))\n",
                "with open(ROOT_DIR / \"data\" / \"obs_configs\" / f\"obs_60_keys.json\", \"r\") as f:\n",
                "    obs_keys = json.load(f)\n",
                "env = BiddingEnv(pvalues_path, bids_path, budget_range, target_cpa_range, obs_keys=obs_keys, \n",
                "                 seed=seed, deterministic_conversion=True, single_io_bid=True, oracle_upgrade=True)"
            ]
        },
        {
            "cell_type": "code",
            "execution_count": 6,
            "metadata": {},
            "outputs": [
                {
                    "data": {
                        "image/png": "[encoded data removed]",
                        "text/plain": [
                            "<Figure size 640x480 with 1 Axes>"
                        ]
                    },
                    "metadata": {},
                    "output_type": "display_data"
                }
            ],
            "source": [
                "# Plot pv / cost over time for one advertiser\n",
                "advertiser_id = 0\n",
                "ts = 10\n",
                "t_cpa = 8\n",
                "\n",
                "bids_df = env.bids_df_list[0]\n",
                "pvalues_df = env.pvalues_df\n",
                "pv_vec = pvalues_df[(pvalues_df.advertiserNumber == advertiser_id) & (pvalues_df.timeStepIndex == ts)].pValue.item()\n",
                "bids_mat = bids_df[(bids_df.timeStepIndex == ts)].bid.item()\n",
                "cost_mat = bids_df[(bids_df.timeStepIndex == ts)].cost.item()\n",
                "ad_mat = bids_df[(bids_df.timeStepIndex == ts)].advertiserNumber.item()\n",
                "bids_mat[ad_mat == advertiser_id] = cost_mat[ad_mat == advertiser_id]\n",
                "cost_vec = bids_mat[:, 0]\n",
                "\n",
                "# Plot hist of the pvalues\n",
                "plt.hist(pv_vec / cost_vec, bins=100)\n",
                "plt.show()"
            ]
        },
        {
            "cell_type": "code",
            "execution_count": 7,
            "metadata": {},
            "outputs": [
                {
                    "data": {
                        "image/png": "[encoded data removed]",
                        "text/plain": [
                            "<Figure size 400x400 with 1 Axes>"
                        ]
                    },
                    "metadata": {},
                    "output_type": "display_data"
                }
            ],
            "source": [
                "import numpy as np\n",
                "import matplotlib.pyplot as plt\n",
                "import seaborn as sns\n",
                "\n",
                "x_min = -0.02\n",
                "y_min = -0.002\n",
                "x_max = 0.27\n",
                "y_max = 0.025\n",
                "\n",
                "# Compute the decision boundary\n",
                "xx = np.linspace(x_min, x_max, 100)\n",
                "boundary_line = (1 / t_cpa) * xx\n",
                "\n",
                "# Determine colors\n",
                "colors = np.where(pv_vec > (1 / t_cpa) * cost_vec, 'green', 'r')\n",
                "\n",
                "# Plot settings\n",
                "sns.set_theme(style=\"whitegrid\")\n",
                "plt.figure(figsize=(4, 4))\n",
                "\n",
                "# Scatter plot\n",
                "scatter = plt.scatter(cost_vec, pv_vec, c=colors, s=15, alpha=0.2)\n",
                "\n",
                "# Boundary line\n",
                "plt.plot(xx, boundary_line, 'b--', label=f'y = x / K')\n",
                "\n",
                "# Annotations\n",
                "plt.xlabel('Least winning cost', fontsize=14)\n",
                "plt.ylabel('Conversion probability', fontsize=14)\n",
                "# plt.title('Scatterplot of Cost vs PV with Decision Boundary', fontsize=16)\n",
                "\n",
                "# Legend and grid\n",
                "plt.legend(fontsize=12)\n",
                "plt.grid(True, alpha=0.6)\n",
                "\n",
                "# Reposition\n",
                "plt.xlim(x_min, x_max)\n",
                "plt.ylim(y_min, y_max)\n",
                "\n",
                "# Show plot\n",
                "plt.tight_layout()\n",
                "plt.savefig(ROOT_DIR / \"data\" / \"images\" / \"pv_vs_lwc.svg\", format=\"svg\")\n",
                "plt.show()\n"
            ]
        },
        {
            "cell_type": "code",
            "execution_count": 8,
            "metadata": {},
            "outputs": [
                {
                    "data": {
                        "image/png": "[encoded data removed]",
                        "text/plain": [
                            "<Figure size 400x400 with 1 Axes>"
                        ]
                    },
                    "metadata": {},
                    "output_type": "display_data"
                }
            ],
            "source": [
                "pv_time_series = pvalues_df[(pvalues_df.advertiserNumber == advertiser_id)].pValue.apply(np.mean)\n",
                "pv_std_series = pvalues_df[(pvalues_df.advertiserNumber == advertiser_id)].pValue.apply(np.std)\n",
                "\n",
                "# Plot settings\n",
                "sns.set_theme(style=\"whitegrid\")\n",
                "plt.figure(figsize=(4, 4))\n",
                "\n",
                "# Time series plot with shaded area\n",
                "x = np.arange(len(pv_time_series))\n",
                "plt.plot(x, pv_time_series, color='b')\n",
                "plt.fill_between(x, pv_time_series - pv_std_series, pv_time_series + pv_std_series,\n",
                "                 color='b', alpha=0.2)\n",
                "\n",
                "# Annotations\n",
                "plt.xlabel('Time Step', fontsize=14)\n",
                "plt.ylabel('Conversion p. (mean $\\pm$ std)', fontsize=14)\n",
                "# plt.title('Time Series of Mean PV with Standard Deviation', fontsize=16)\n",
                "\n",
                "# y range\n",
                "plt.ylim(y_min, y_max)\n",
                "\n",
                "# Legend and grid\n",
                "plt.grid(True, alpha=0.6)\n",
                "\n",
                "# Show plot\n",
                "plt.tight_layout()\n",
                "plt.savefig(ROOT_DIR / \"data\" / \"images\" / \"pv_ts.svg\", format=\"svg\")\n",
                "plt.show()"
            ]
        },
        {
            "cell_type": "code",
            "execution_count": 36,
            "metadata": {},
            "outputs": [
                {
                    "data": {
                        "text/plain": [
                            "[<matplotlib.lines.Line2D at 0xe4f27a924340>]"
                        ]
                    },
                    "execution_count": 36,
                    "metadata": {},
                    "output_type": "execute_result"
                },
                {
                    "data": {
                        "image/png": "[encoded data removed]",
                        "text/plain": [
                            "<Figure size 640x480 with 1 Axes>"
                        ]
                    },
                    "metadata": {},
                    "output_type": "display_data"
                }
            ],
            "source": [
                "pv_time_series = pvalues_df[(pvalues_df.advertiserNumber == advertiser_id)].pValue.apply(lambda x: len(x))\n",
                "plt.plot(pv_time_series)"
            ]
        },
        {
            "cell_type": "code",
            "execution_count": 4,
            "metadata": {},
            "outputs": [
                {
                    "data": {
                        "text/plain": [
                            "Index(['deliveryPeriodIndex', 'advertiserNumber', 'advertiserCategoryIndex',\n",
                            "       'budget', 'CPAConstraint', 'timeStepIndex', 'remainingBudget',\n",
                            "       'pvIndex', 'pValue', 'pValueSigma', 'bid', 'xi', 'adSlot', 'cost',\n",
                            "       'isExposed', 'conversionAction', 'leastWinningCost', 'isEnd'],\n",
                            "      dtype='object')"
                        ]
                    },
                    "execution_count": 4,
                    "metadata": {},
                    "output_type": "execute_result"
                }
            ],
            "source": [
                "df_path = ROOT_DIR / \"data/traffic/raw_traffic_parquet/period-27.parquet\"\n",
                "df = pd.read_parquet(df_path)\n",
                "df.keys()"
            ]
        },
        {
            "cell_type": "code",
            "execution_count": 10,
            "metadata": {},
            "outputs": [
                {
                    "data": {
                        "text/plain": [
                            "(450.0, 11850.0)"
                        ]
                    },
                    "execution_count": 10,
                    "metadata": {},
                    "output_type": "execute_result"
                }
            ],
            "source": [
                "df.budget.min(), df.budget.max()"
            ]
        },
        {
            "cell_type": "code",
            "execution_count": 11,
            "metadata": {},
            "outputs": [
                {
                    "data": {
                        "text/plain": [
                            "(6.0, 12.0)"
                        ]
                    },
                    "execution_count": 11,
                    "metadata": {},
                    "output_type": "execute_result"
                }
            ],
            "source": [
                "df.CPAConstraint.min(), df.CPAConstraint.max()"
            ]
        },
        {
            "cell_type": "code",
            "execution_count": 8,
            "metadata": {},
            "outputs": [
                {
                    "ename": "FileNotFoundError",
                    "evalue": "[Errno 2] No such file or directory: '/home/ubuntu/Dev/NeurIPS_Auto_Bidding_General_Track_Baseline/saved_model/ONBC/055_onbc_seed_0_single_io_bid_batch_state_20_envs_1000_subs/rl_model_3650000_steps.zip.zip'",
                    "output_type": "error",
                    "traceback": [
                        "\u001b[0;31m---------------------------------------------------------------------------\u001b[0m",
                        "\u001b[0;31mFileNotFoundError\u001b[0m                         Traceback (most recent call last)",
                        "Cell \u001b[0;32mIn[8], line 5\u001b[0m\n\u001b[1;32m      2\u001b[0m checkpoint \u001b[38;5;241m=\u001b[39m \u001b[38;5;241m3650000\u001b[39m\n\u001b[1;32m      4\u001b[0m experiment_path \u001b[38;5;241m=\u001b[39m ROOT_DIR \u001b[38;5;241m/\u001b[39m \u001b[38;5;124m\"\u001b[39m\u001b[38;5;124msaved_model\u001b[39m\u001b[38;5;124m\"\u001b[39m \u001b[38;5;241m/\u001b[39m \u001b[38;5;124m\"\u001b[39m\u001b[38;5;124mONBC\u001b[39m\u001b[38;5;124m\"\u001b[39m \u001b[38;5;241m/\u001b[39m exp_path\n\u001b[0;32m----> 5\u001b[0m model \u001b[38;5;241m=\u001b[39m \u001b[43mload_model\u001b[49m\u001b[43m(\u001b[49m\n\u001b[1;32m      6\u001b[0m \u001b[43m    \u001b[49m\u001b[38;5;124;43m\"\u001b[39;49m\u001b[38;5;124;43moil\u001b[39;49m\u001b[38;5;124;43m\"\u001b[39;49m\u001b[43m,\u001b[49m\n\u001b[1;32m      7\u001b[0m \u001b[43m    \u001b[49m\u001b[43mexperiment_path\u001b[49m\u001b[43m,\u001b[49m\n\u001b[1;32m      8\u001b[0m \u001b[43m    \u001b[49m\u001b[43mcheckpoint\u001b[49m\u001b[43m,\u001b[49m\n\u001b[1;32m      9\u001b[0m \u001b[43m)\u001b[49m\n\u001b[1;32m     10\u001b[0m train_env_config \u001b[38;5;241m=\u001b[39m json\u001b[38;5;241m.\u001b[39mload(\u001b[38;5;28mopen\u001b[39m(experiment_path \u001b[38;5;241m/\u001b[39m ENV_CONFIG_NAME, \u001b[38;5;124m\"\u001b[39m\u001b[38;5;124mr\u001b[39m\u001b[38;5;124m\"\u001b[39m))\n\u001b[1;32m     11\u001b[0m train_env_config[\u001b[38;5;124m\"\u001b[39m\u001b[38;5;124mbids_df_path\u001b[39m\u001b[38;5;124m\"\u001b[39m] \u001b[38;5;241m=\u001b[39m \u001b[38;5;28;01mNone\u001b[39;00m\n",
                        "File \u001b[0;32m~/Dev/NeurIPS_Auto_Bidding_General_Track_Baseline/notebooks/../online/helpers.py:31\u001b[0m, in \u001b[0;36mload_model\u001b[0;34m(algo, experiment_path, checkpoint_number)\u001b[0m\n\u001b[1;32m     29\u001b[0m     model_file \u001b[38;5;241m=\u001b[39m MODEL_PATTERN\u001b[38;5;241m.\u001b[39mreplace(\u001b[38;5;124m\"\u001b[39m\u001b[38;5;124m*\u001b[39m\u001b[38;5;124m\"\u001b[39m, \u001b[38;5;28mstr\u001b[39m(checkpoint_number))\n\u001b[1;32m     30\u001b[0m model_path \u001b[38;5;241m=\u001b[39m os\u001b[38;5;241m.\u001b[39mpath\u001b[38;5;241m.\u001b[39mjoin(experiment_path, model_file)\n\u001b[0;32m---> 31\u001b[0m model \u001b[38;5;241m=\u001b[39m \u001b[43mALGO_CLASS_DICT\u001b[49m\u001b[43m[\u001b[49m\u001b[43malgo\u001b[49m\u001b[43m]\u001b[49m\u001b[38;5;241;43m.\u001b[39;49m\u001b[43mload\u001b[49m\u001b[43m(\u001b[49m\u001b[43mmodel_path\u001b[49m\u001b[43m)\u001b[49m\n\u001b[1;32m     32\u001b[0m \u001b[38;5;28;01mreturn\u001b[39;00m model\n",
                        "File \u001b[0;32m~/miniforge3/envs/alibaba/lib/python3.9/site-packages/stable_baselines3/common/base_class.py:680\u001b[0m, in \u001b[0;36mBaseAlgorithm.load\u001b[0;34m(cls, path, env, device, custom_objects, print_system_info, force_reset, **kwargs)\u001b[0m\n\u001b[1;32m    677\u001b[0m     \u001b[38;5;28mprint\u001b[39m(\u001b[38;5;124m\"\u001b[39m\u001b[38;5;124m== CURRENT SYSTEM INFO ==\u001b[39m\u001b[38;5;124m\"\u001b[39m)\n\u001b[1;32m    678\u001b[0m     get_system_info()\n\u001b[0;32m--> 680\u001b[0m data, params, pytorch_variables \u001b[38;5;241m=\u001b[39m \u001b[43mload_from_zip_file\u001b[49m\u001b[43m(\u001b[49m\n\u001b[1;32m    681\u001b[0m \u001b[43m    \u001b[49m\u001b[43mpath\u001b[49m\u001b[43m,\u001b[49m\n\u001b[1;32m    682\u001b[0m \u001b[43m    \u001b[49m\u001b[43mdevice\u001b[49m\u001b[38;5;241;43m=\u001b[39;49m\u001b[43mdevice\u001b[49m\u001b[43m,\u001b[49m\n\u001b[1;32m    683\u001b[0m \u001b[43m    \u001b[49m\u001b[43mcustom_objects\u001b[49m\u001b[38;5;241;43m=\u001b[39;49m\u001b[43mcustom_objects\u001b[49m\u001b[43m,\u001b[49m\n\u001b[1;32m    684\u001b[0m \u001b[43m    \u001b[49m\u001b[43mprint_system_info\u001b[49m\u001b[38;5;241;43m=\u001b[39;49m\u001b[43mprint_system_info\u001b[49m\u001b[43m,\u001b[49m\n\u001b[1;32m    685\u001b[0m \u001b[43m\u001b[49m\u001b[43m)\u001b[49m\n\u001b[1;32m    687\u001b[0m \u001b[38;5;28;01massert\u001b[39;00m data \u001b[38;5;129;01mis\u001b[39;00m \u001b[38;5;129;01mnot\u001b[39;00m \u001b[38;5;28;01mNone\u001b[39;00m, \u001b[38;5;124m\"\u001b[39m\u001b[38;5;124mNo data found in the saved file\u001b[39m\u001b[38;5;124m\"\u001b[39m\n\u001b[1;32m    688\u001b[0m \u001b[38;5;28;01massert\u001b[39;00m params \u001b[38;5;129;01mis\u001b[39;00m \u001b[38;5;129;01mnot\u001b[39;00m \u001b[38;5;28;01mNone\u001b[39;00m, \u001b[38;5;124m\"\u001b[39m\u001b[38;5;124mNo params found in the saved file\u001b[39m\u001b[38;5;124m\"\u001b[39m\n",
                        "File \u001b[0;32m~/miniforge3/envs/alibaba/lib/python3.9/site-packages/stable_baselines3/common/save_util.py:403\u001b[0m, in \u001b[0;36mload_from_zip_file\u001b[0;34m(load_path, load_data, custom_objects, device, verbose, print_system_info)\u001b[0m\n\u001b[1;32m    376\u001b[0m \u001b[38;5;28;01mdef\u001b[39;00m \u001b[38;5;21mload_from_zip_file\u001b[39m(\n\u001b[1;32m    377\u001b[0m     load_path: Union[\u001b[38;5;28mstr\u001b[39m, pathlib\u001b[38;5;241m.\u001b[39mPath, io\u001b[38;5;241m.\u001b[39mBufferedIOBase],\n\u001b[1;32m    378\u001b[0m     load_data: \u001b[38;5;28mbool\u001b[39m \u001b[38;5;241m=\u001b[39m \u001b[38;5;28;01mTrue\u001b[39;00m,\n\u001b[0;32m   (...)\u001b[0m\n\u001b[1;32m    382\u001b[0m     print_system_info: \u001b[38;5;28mbool\u001b[39m \u001b[38;5;241m=\u001b[39m \u001b[38;5;28;01mFalse\u001b[39;00m,\n\u001b[1;32m    383\u001b[0m ) \u001b[38;5;241m-\u001b[39m\u001b[38;5;241m>\u001b[39m Tuple[Optional[Dict[\u001b[38;5;28mstr\u001b[39m, Any]], TensorDict, Optional[TensorDict]]:\n\u001b[1;32m    384\u001b[0m \u001b[38;5;250m    \u001b[39m\u001b[38;5;124;03m\"\"\"\u001b[39;00m\n\u001b[1;32m    385\u001b[0m \u001b[38;5;124;03m    Load model data from a .zip archive\u001b[39;00m\n\u001b[1;32m    386\u001b[0m \n\u001b[0;32m   (...)\u001b[0m\n\u001b[1;32m    401\u001b[0m \u001b[38;5;124;03m        and dict of pytorch variables\u001b[39;00m\n\u001b[1;32m    402\u001b[0m \u001b[38;5;124;03m    \"\"\"\u001b[39;00m\n\u001b[0;32m--> 403\u001b[0m     file \u001b[38;5;241m=\u001b[39m \u001b[43mopen_path\u001b[49m\u001b[43m(\u001b[49m\u001b[43mload_path\u001b[49m\u001b[43m,\u001b[49m\u001b[43m \u001b[49m\u001b[38;5;124;43m\"\u001b[39;49m\u001b[38;5;124;43mr\u001b[39;49m\u001b[38;5;124;43m\"\u001b[39;49m\u001b[43m,\u001b[49m\u001b[43m \u001b[49m\u001b[43mverbose\u001b[49m\u001b[38;5;241;43m=\u001b[39;49m\u001b[43mverbose\u001b[49m\u001b[43m,\u001b[49m\u001b[43m \u001b[49m\u001b[43msuffix\u001b[49m\u001b[38;5;241;43m=\u001b[39;49m\u001b[38;5;124;43m\"\u001b[39;49m\u001b[38;5;124;43mzip\u001b[39;49m\u001b[38;5;124;43m\"\u001b[39;49m\u001b[43m)\u001b[49m\n\u001b[1;32m    405\u001b[0m     \u001b[38;5;66;03m# set device to cpu if cuda is not available\u001b[39;00m\n\u001b[1;32m    406\u001b[0m     device \u001b[38;5;241m=\u001b[39m get_device(device\u001b[38;5;241m=\u001b[39mdevice)\n",
                        "File \u001b[0;32m~/miniforge3/envs/alibaba/lib/python3.9/functools.py:888\u001b[0m, in \u001b[0;36msingledispatch.<locals>.wrapper\u001b[0;34m(*args, **kw)\u001b[0m\n\u001b[1;32m    884\u001b[0m \u001b[38;5;28;01mif\u001b[39;00m \u001b[38;5;129;01mnot\u001b[39;00m args:\n\u001b[1;32m    885\u001b[0m     \u001b[38;5;28;01mraise\u001b[39;00m \u001b[38;5;167;01mTypeError\u001b[39;00m(\u001b[38;5;124mf\u001b[39m\u001b[38;5;124m'\u001b[39m\u001b[38;5;132;01m{\u001b[39;00mfuncname\u001b[38;5;132;01m}\u001b[39;00m\u001b[38;5;124m requires at least \u001b[39m\u001b[38;5;124m'\u001b[39m\n\u001b[1;32m    886\u001b[0m                     \u001b[38;5;124m'\u001b[39m\u001b[38;5;124m1 positional argument\u001b[39m\u001b[38;5;124m'\u001b[39m)\n\u001b[0;32m--> 888\u001b[0m \u001b[38;5;28;01mreturn\u001b[39;00m \u001b[43mdispatch\u001b[49m\u001b[43m(\u001b[49m\u001b[43margs\u001b[49m\u001b[43m[\u001b[49m\u001b[38;5;241;43m0\u001b[39;49m\u001b[43m]\u001b[49m\u001b[38;5;241;43m.\u001b[39;49m\u001b[38;5;18;43m__class__\u001b[39;49m\u001b[43m)\u001b[49m\u001b[43m(\u001b[49m\u001b[38;5;241;43m*\u001b[39;49m\u001b[43margs\u001b[49m\u001b[43m,\u001b[49m\u001b[43m \u001b[49m\u001b[38;5;241;43m*\u001b[39;49m\u001b[38;5;241;43m*\u001b[39;49m\u001b[43mkw\u001b[49m\u001b[43m)\u001b[49m\n",
                        "File \u001b[0;32m~/miniforge3/envs/alibaba/lib/python3.9/site-packages/stable_baselines3/common/save_util.py:240\u001b[0m, in \u001b[0;36mopen_path_str\u001b[0;34m(path, mode, verbose, suffix)\u001b[0m\n\u001b[1;32m    225\u001b[0m \u001b[38;5;129m@open_path\u001b[39m\u001b[38;5;241m.\u001b[39mregister(\u001b[38;5;28mstr\u001b[39m)\n\u001b[1;32m    226\u001b[0m \u001b[38;5;28;01mdef\u001b[39;00m \u001b[38;5;21mopen_path_str\u001b[39m(path: \u001b[38;5;28mstr\u001b[39m, mode: \u001b[38;5;28mstr\u001b[39m, verbose: \u001b[38;5;28mint\u001b[39m \u001b[38;5;241m=\u001b[39m \u001b[38;5;241m0\u001b[39m, suffix: Optional[\u001b[38;5;28mstr\u001b[39m] \u001b[38;5;241m=\u001b[39m \u001b[38;5;28;01mNone\u001b[39;00m) \u001b[38;5;241m-\u001b[39m\u001b[38;5;241m>\u001b[39m io\u001b[38;5;241m.\u001b[39mBufferedIOBase:\n\u001b[1;32m    227\u001b[0m \u001b[38;5;250m    \u001b[39m\u001b[38;5;124;03m\"\"\"\u001b[39;00m\n\u001b[1;32m    228\u001b[0m \u001b[38;5;124;03m    Open a path given by a string. If writing to the path, the function ensures\u001b[39;00m\n\u001b[1;32m    229\u001b[0m \u001b[38;5;124;03m    that the path exists.\u001b[39;00m\n\u001b[0;32m   (...)\u001b[0m\n\u001b[1;32m    238\u001b[0m \u001b[38;5;124;03m    :return:\u001b[39;00m\n\u001b[1;32m    239\u001b[0m \u001b[38;5;124;03m    \"\"\"\u001b[39;00m\n\u001b[0;32m--> 240\u001b[0m     \u001b[38;5;28;01mreturn\u001b[39;00m \u001b[43mopen_path_pathlib\u001b[49m\u001b[43m(\u001b[49m\u001b[43mpathlib\u001b[49m\u001b[38;5;241;43m.\u001b[39;49m\u001b[43mPath\u001b[49m\u001b[43m(\u001b[49m\u001b[43mpath\u001b[49m\u001b[43m)\u001b[49m\u001b[43m,\u001b[49m\u001b[43m \u001b[49m\u001b[43mmode\u001b[49m\u001b[43m,\u001b[49m\u001b[43m \u001b[49m\u001b[43mverbose\u001b[49m\u001b[43m,\u001b[49m\u001b[43m \u001b[49m\u001b[43msuffix\u001b[49m\u001b[43m)\u001b[49m\n",
                        "File \u001b[0;32m~/miniforge3/envs/alibaba/lib/python3.9/site-packages/stable_baselines3/common/save_util.py:291\u001b[0m, in \u001b[0;36mopen_path_pathlib\u001b[0;34m(path, mode, verbose, suffix)\u001b[0m\n\u001b[1;32m    285\u001b[0m         path\u001b[38;5;241m.\u001b[39mparent\u001b[38;5;241m.\u001b[39mmkdir(exist_ok\u001b[38;5;241m=\u001b[39m\u001b[38;5;28;01mTrue\u001b[39;00m, parents\u001b[38;5;241m=\u001b[39m\u001b[38;5;28;01mTrue\u001b[39;00m)\n\u001b[1;32m    287\u001b[0m \u001b[38;5;66;03m# if opening was successful uses the open_path() function\u001b[39;00m\n\u001b[1;32m    288\u001b[0m \u001b[38;5;66;03m# if opening failed with IsADirectory|FileNotFound, calls open_path_pathlib\u001b[39;00m\n\u001b[1;32m    289\u001b[0m \u001b[38;5;66;03m#   with corrections\u001b[39;00m\n\u001b[1;32m    290\u001b[0m \u001b[38;5;66;03m# if reading failed with FileNotFoundError, calls open_path_pathlib with suffix\u001b[39;00m\n\u001b[0;32m--> 291\u001b[0m \u001b[38;5;28;01mreturn\u001b[39;00m \u001b[43mopen_path_pathlib\u001b[49m\u001b[43m(\u001b[49m\u001b[43mpath\u001b[49m\u001b[43m,\u001b[49m\u001b[43m \u001b[49m\u001b[43mmode\u001b[49m\u001b[43m,\u001b[49m\u001b[43m \u001b[49m\u001b[43mverbose\u001b[49m\u001b[43m,\u001b[49m\u001b[43m \u001b[49m\u001b[43msuffix\u001b[49m\u001b[43m)\u001b[49m\n",
                        "File \u001b[0;32m~/miniforge3/envs/alibaba/lib/python3.9/site-packages/stable_baselines3/common/save_util.py:272\u001b[0m, in \u001b[0;36mopen_path_pathlib\u001b[0;34m(path, mode, verbose, suffix)\u001b[0m\n\u001b[1;32m    270\u001b[0m             path, suffix \u001b[38;5;241m=\u001b[39m newpath, \u001b[38;5;28;01mNone\u001b[39;00m\n\u001b[1;32m    271\u001b[0m         \u001b[38;5;28;01melse\u001b[39;00m:\n\u001b[0;32m--> 272\u001b[0m             \u001b[38;5;28;01mraise\u001b[39;00m error\n\u001b[1;32m    273\u001b[0m \u001b[38;5;28;01melse\u001b[39;00m:\n\u001b[1;32m    274\u001b[0m     \u001b[38;5;28;01mtry\u001b[39;00m:\n",
                        "File \u001b[0;32m~/miniforge3/envs/alibaba/lib/python3.9/site-packages/stable_baselines3/common/save_util.py:264\u001b[0m, in \u001b[0;36mopen_path_pathlib\u001b[0;34m(path, mode, verbose, suffix)\u001b[0m\n\u001b[1;32m    262\u001b[0m \u001b[38;5;28;01mif\u001b[39;00m mode \u001b[38;5;241m==\u001b[39m \u001b[38;5;124m\"\u001b[39m\u001b[38;5;124mr\u001b[39m\u001b[38;5;124m\"\u001b[39m:\n\u001b[1;32m    263\u001b[0m     \u001b[38;5;28;01mtry\u001b[39;00m:\n\u001b[0;32m--> 264\u001b[0m         \u001b[38;5;28;01mreturn\u001b[39;00m open_path(\u001b[43mpath\u001b[49m\u001b[38;5;241;43m.\u001b[39;49m\u001b[43mopen\u001b[49m\u001b[43m(\u001b[49m\u001b[38;5;124;43m\"\u001b[39;49m\u001b[38;5;124;43mrb\u001b[39;49m\u001b[38;5;124;43m\"\u001b[39;49m\u001b[43m)\u001b[49m, mode, verbose, suffix)\n\u001b[1;32m    265\u001b[0m     \u001b[38;5;28;01mexcept\u001b[39;00m \u001b[38;5;167;01mFileNotFoundError\u001b[39;00m \u001b[38;5;28;01mas\u001b[39;00m error:\n\u001b[1;32m    266\u001b[0m         \u001b[38;5;28;01mif\u001b[39;00m suffix \u001b[38;5;129;01mis\u001b[39;00m \u001b[38;5;129;01mnot\u001b[39;00m \u001b[38;5;28;01mNone\u001b[39;00m \u001b[38;5;129;01mand\u001b[39;00m suffix \u001b[38;5;241m!=\u001b[39m \u001b[38;5;124m\"\u001b[39m\u001b[38;5;124m\"\u001b[39m:\n",
                        "File \u001b[0;32m~/miniforge3/envs/alibaba/lib/python3.9/pathlib.py:1252\u001b[0m, in \u001b[0;36mPath.open\u001b[0;34m(self, mode, buffering, encoding, errors, newline)\u001b[0m\n\u001b[1;32m   1246\u001b[0m \u001b[38;5;28;01mdef\u001b[39;00m \u001b[38;5;21mopen\u001b[39m(\u001b[38;5;28mself\u001b[39m, mode\u001b[38;5;241m=\u001b[39m\u001b[38;5;124m'\u001b[39m\u001b[38;5;124mr\u001b[39m\u001b[38;5;124m'\u001b[39m, buffering\u001b[38;5;241m=\u001b[39m\u001b[38;5;241m-\u001b[39m\u001b[38;5;241m1\u001b[39m, encoding\u001b[38;5;241m=\u001b[39m\u001b[38;5;28;01mNone\u001b[39;00m,\n\u001b[1;32m   1247\u001b[0m          errors\u001b[38;5;241m=\u001b[39m\u001b[38;5;28;01mNone\u001b[39;00m, newline\u001b[38;5;241m=\u001b[39m\u001b[38;5;28;01mNone\u001b[39;00m):\n\u001b[1;32m   1248\u001b[0m \u001b[38;5;250m    \u001b[39m\u001b[38;5;124;03m\"\"\"\u001b[39;00m\n\u001b[1;32m   1249\u001b[0m \u001b[38;5;124;03m    Open the file pointed by this path and return a file object, as\u001b[39;00m\n\u001b[1;32m   1250\u001b[0m \u001b[38;5;124;03m    the built-in open() function does.\u001b[39;00m\n\u001b[1;32m   1251\u001b[0m \u001b[38;5;124;03m    \"\"\"\u001b[39;00m\n\u001b[0;32m-> 1252\u001b[0m     \u001b[38;5;28;01mreturn\u001b[39;00m \u001b[43mio\u001b[49m\u001b[38;5;241;43m.\u001b[39;49m\u001b[43mopen\u001b[49m\u001b[43m(\u001b[49m\u001b[38;5;28;43mself\u001b[39;49m\u001b[43m,\u001b[49m\u001b[43m \u001b[49m\u001b[43mmode\u001b[49m\u001b[43m,\u001b[49m\u001b[43m \u001b[49m\u001b[43mbuffering\u001b[49m\u001b[43m,\u001b[49m\u001b[43m \u001b[49m\u001b[43mencoding\u001b[49m\u001b[43m,\u001b[49m\u001b[43m \u001b[49m\u001b[43merrors\u001b[49m\u001b[43m,\u001b[49m\u001b[43m \u001b[49m\u001b[43mnewline\u001b[49m\u001b[43m,\u001b[49m\n\u001b[1;32m   1253\u001b[0m \u001b[43m                   \u001b[49m\u001b[43mopener\u001b[49m\u001b[38;5;241;43m=\u001b[39;49m\u001b[38;5;28;43mself\u001b[39;49m\u001b[38;5;241;43m.\u001b[39;49m\u001b[43m_opener\u001b[49m\u001b[43m)\u001b[49m\n",
                        "File \u001b[0;32m~/miniforge3/envs/alibaba/lib/python3.9/pathlib.py:1120\u001b[0m, in \u001b[0;36mPath._opener\u001b[0;34m(self, name, flags, mode)\u001b[0m\n\u001b[1;32m   1118\u001b[0m \u001b[38;5;28;01mdef\u001b[39;00m \u001b[38;5;21m_opener\u001b[39m(\u001b[38;5;28mself\u001b[39m, name, flags, mode\u001b[38;5;241m=\u001b[39m\u001b[38;5;241m0o666\u001b[39m):\n\u001b[1;32m   1119\u001b[0m     \u001b[38;5;66;03m# A stub for the opener argument to built-in open()\u001b[39;00m\n\u001b[0;32m-> 1120\u001b[0m     \u001b[38;5;28;01mreturn\u001b[39;00m \u001b[38;5;28;43mself\u001b[39;49m\u001b[38;5;241;43m.\u001b[39;49m\u001b[43m_accessor\u001b[49m\u001b[38;5;241;43m.\u001b[39;49m\u001b[43mopen\u001b[49m\u001b[43m(\u001b[49m\u001b[38;5;28;43mself\u001b[39;49m\u001b[43m,\u001b[49m\u001b[43m \u001b[49m\u001b[43mflags\u001b[49m\u001b[43m,\u001b[49m\u001b[43m \u001b[49m\u001b[43mmode\u001b[49m\u001b[43m)\u001b[49m\n",
                        "\u001b[0;31mFileNotFoundError\u001b[0m: [Errno 2] No such file or directory: '/home/ubuntu/Dev/NeurIPS_Auto_Bidding_General_Track_Baseline/saved_model/ONBC/055_onbc_seed_0_single_io_bid_batch_state_20_envs_1000_subs/rl_model_3650000_steps.zip.zip'"
                    ]
                }
            ],
            "source": [
                "exp_path = \"055_onbc_seed_0_single_io_bid_batch_state_20_envs_1000_subs\"\n",
                "checkpoint = 3650000\n",
                "\n",
                "experiment_path = ROOT_DIR / \"saved_model\" / \"ONBC\" / exp_path\n",
                "model = load_model(\n",
                "    \"oil\",\n",
                "    experiment_path,\n",
                "    checkpoint,\n",
                ")\n",
                "train_env_config = json.load(open(experiment_path / ENV_CONFIG_NAME, \"r\"))\n",
                "train_env_config[\"bids_df_path\"] = None\n",
                "train_env_config[\"pvalues_df_path\"] = None\n",
                "train_env = EnvironmentFactory.create(**train_env_config)\n",
                "vecnormalize = load_vecnormalize(experiment_path, checkpoint, train_env)\n",
                "vecnormalize.training = False\n"
            ]
        },
        {
            "cell_type": "code",
            "execution_count": 9,
            "metadata": {},
            "outputs": [
                {
                    "name": "stdout",
                    "output_type": "stream",
                    "text": [
                        "dict_keys(['time_left', 'budget_left', 'budget', 'cpa', 'category', 'total_conversions', 'total_cost', 'total_cpa', 'pv_num_total', 'current_pvalues_mean', 'current_pvalues_90_pct', 'current_pvalues_99_pct', 'current_pv_num', 'last_least_winning_cost_mean', 'last_three_least_winning_cost_mean', 'historical_least_winning_cost_mean', 'last_least_winning_cost_10_pct', 'last_three_least_winning_cost_10_pct', 'historical_least_winning_cost_10_pct', 'last_least_winning_cost_01_pct', 'last_three_least_winning_cost_01_pct', 'historical_least_winning_cost_01_pct', 'last_cpa_exceedence_rate', 'last_three_cpa_exceedence_rate', 'historical_cpa_exceedence_rate', 'last_pvalues_mean', 'last_three_pvalues_mean', 'historical_pvalues_mean', 'last_conversion_mean', 'last_three_conversion_mean', 'historical_conversion_mean', 'last_conversion_count', 'last_three_conversion_count', 'historical_conversion_count', 'last_bid_success_mean', 'last_three_bid_success_mean', 'historical_bid_success_mean', 'last_successful_bid_position_mean', 'last_three_successful_bid_position_mean', 'historical_successful_bid_position_mean', 'last_bid_over_lwc_mean', 'last_three_bid_over_lwc_mean', 'historical_bid_over_lwc_mean', 'last_pv_over_lwc_mean', 'last_three_pv_over_lwc_mean', 'historical_pv_over_lwc_mean', 'last_pv_over_lwc_90_pct', 'last_three_pv_over_lwc_90_pct', 'historical_pv_over_lwc_90_pct', 'last_pv_over_lwc_99_pct', 'last_three_pv_over_lwc_99_pct', 'historical_pv_over_lwc_99_pct', 'last_pv_num', 'last_three_pv_num', 'historical_pv_num', 'last_exposure_count', 'last_three_exposure_count', 'historical_exposure_count', 'last_cost_sum', 'last_three_cost_sum', 'historical_cost_sum', 'last_time_left', 'last_three_time_left', 'historical_time_left', 'last_budget_left', 'last_three_budget_left', 'historical_budget_left', 'last_budget', 'last_three_budget', 'historical_budget', 'last_cpa', 'last_three_cpa', 'historical_cpa', 'last_category', 'last_three_category', 'historical_category', 'last_total_conversions', 'last_three_total_conversions', 'historical_total_conversions', 'last_total_cost', 'last_three_total_cost', 'historical_total_cost', 'last_total_cpa', 'last_three_total_cpa', 'historical_total_cpa', 'last_current_pvalues_mean', 'last_three_current_pvalues_mean', 'historical_current_pvalues_mean', 'last_current_pvalues_90_pct', 'last_three_current_pvalues_90_pct', 'historical_current_pvalues_90_pct', 'last_current_pvalues_99_pct', 'last_three_current_pvalues_99_pct', 'historical_current_pvalues_99_pct', 'last_current_pv_num', 'last_three_current_pv_num', 'historical_current_pv_num', 'last_bid_mean', 'last_three_bid_mean', 'historical_bid_mean', 'last_cost_mean', 'last_three_cost_mean', 'historical_cost_mean', 'last_bid_success_count', 'last_three_bid_success_count', 'historical_bid_success_count', 'last_exposure_mean', 'last_three_exposure_mean', 'historical_exposure_mean', 'last_bid_mean_slot_1', 'last_three_bid_mean_slot_1', 'historical_bid_mean_slot_1', 'last_bid_mean_slot_2', 'last_three_bid_mean_slot_2', 'historical_bid_mean_slot_2', 'last_bid_mean_slot_3', 'last_three_bid_mean_slot_3', 'historical_bid_mean_slot_3', 'last_cost_mean_slot_1', 'last_three_cost_mean_slot_1', 'historical_cost_mean_slot_1', 'last_cost_mean_slot_2', 'last_three_cost_mean_slot_2', 'historical_cost_mean_slot_2', 'last_cost_mean_slot_3', 'last_three_cost_mean_slot_3', 'historical_cost_mean_slot_3', 'last_bid_success_count_slot_1', 'last_three_bid_success_count_slot_1', 'historical_bid_success_count_slot_1', 'last_bid_success_count_slot_2', 'last_three_bid_success_count_slot_2', 'historical_bid_success_count_slot_2', 'last_bid_success_count_slot_3', 'last_three_bid_success_count_slot_3', 'historical_bid_success_count_slot_3', 'last_exposure_mean_slot_1', 'last_three_exposure_mean_slot_1', 'historical_exposure_mean_slot_1', 'last_exposure_mean_slot_2', 'last_three_exposure_mean_slot_2', 'historical_exposure_mean_slot_2', 'last_exposure_mean_slot_3', 'last_three_exposure_mean_slot_3', 'historical_exposure_mean_slot_3', 'pvalues', 'pvalues_std', 'least_winning_cost_mean', 'least_winning_cost_10_pct', 'least_winning_cost_01_pct', 'pvalues_mean', 'conversion_mean', 'bid_success_mean', 'last_bid_success', 'historical_cost_slot_1_mean', 'historical_cost_slot_2_mean', 'historical_cost_slot_3_mean', 'last_cost_slot_1_mean', 'last_cost_slot_2_mean', 'last_cost_slot_3_mean', 'last_three_cost_slot_1_mean', 'last_three_cost_slot_2_mean', 'last_three_cost_slot_3_mean'])\n"
                    ]
                }
            ],
            "source": [
                "obs, _ = env.reset()\n",
                "pvalues, pvalues_std = env.get_pvalues_mean_and_std()\n",
                "state_dict = env.get_state_dict(pvalues, pvalues_std)\n",
                "print(state_dict.keys())"
            ]
        },
        {
            "cell_type": "code",
            "execution_count": 10,
            "metadata": {},
            "outputs": [
                {
                    "name": "stdout",
                    "output_type": "stream",
                    "text": [
                        "Budget: 3819.9073273015397 Target cpa: 111.0647592688799 Advertiser: 31.0 Period: 27.0\n",
                        "Realistic oracle score: 455.20922714145854\n",
                        "Flex oracle score: 468.5013543178793\n"
                    ]
                }
            ],
            "source": [
                "env.single_io_bid = False\n",
                "for i in range(1):\n",
                "    # env.reset()\n",
                "    env.reset(budget=env.total_budget, target_cpa=env.target_cpa, advertiser=env.advertiser, period=env.period)\n",
                "\n",
                "    # using_piecewise = env.piecewise_linear_action\n",
                "    # using_two_slopes = env.two_slopes_action\n",
                "    using_oracle_upgrade = env.oracle_upgrade\n",
                "    \n",
                "    # env.piecewise_linear_action = False\n",
                "    # env.two_slopes_action = True\n",
                "    env.oracle_upgrade = False\n",
                "    \n",
                "    print(\"Budget:\", env.total_budget, \"Target cpa:\", env.target_cpa, \"Advertiser:\", env.advertiser, \"Period:\", env.period)\n",
                "    done = False\n",
                "    realistic_oracle_action = env.get_realistic_oracle_action()\n",
                "    while not done:\n",
                "        _, _, terminated, truncated, info = env.step(realistic_oracle_action)\n",
                "        done = terminated or truncated\n",
                "    print(\"Realistic oracle score:\", info[\"score\"])\n",
                "    \n",
                "    # env.piecewise_linear_action = False\n",
                "    # env.two_slopes_action = True\n",
                "    \n",
                "    # env.reset(budget=env.total_budget, target_cpa=env.target_cpa, advertiser=env.advertiser, period=env.period)\n",
                "    # done = False\n",
                "    # while not done:\n",
                "    #     # action = simplified_oracle_action\n",
                "    #     action = env.get_simplified_oracle_action()\n",
                "    #     _, _, terminated, truncated, info = env.step(action)\n",
                "    #     done = terminated or truncated\n",
                "    # print(\"Simplified oracle score:\", info[\"score\"])\n",
                "\n",
                "    # env.piecewise_linear_action = False\n",
                "    # env.two_slopes_action = False\n",
                "    \n",
                "    env.oracle_upgrade = True\n",
                "    env.reset(budget=env.total_budget, target_cpa=env.target_cpa, advertiser=env.advertiser, period=env.period)\n",
                "    done = False\n",
                "    idx = 0\n",
                "    while not done:\n",
                "        # action = env.get_oracle_upgrade_action()\n",
                "        flex_action = env.get_oracle_action()\n",
                "        _, _, terminated, truncated, info = env.step(flex_action)\n",
                "        idx += 1\n",
                "        done = terminated or truncated\n",
                "    print(\"Flex oracle score:\", info[\"score\"])\n",
                "\n",
                "    # using_piecewise = env.piecewise_linear_action\n",
                "    # env.piecewise_linear_action = False\n",
                "    # env.two_slopes_action = True\n",
                "    # env.reset(budget=env.total_budget, target_cpa=env.target_cpa, advertiser=env.advertiser, period=env.period)\n",
                "    # done = False\n",
                "    # while not done:\n",
                "    #     # action = env.get_oracle_upgrade_action()\n",
                "    #     action = env.get_oracle_upgrade_action()\n",
                "    #     _, _, terminated, truncated, info = env.step(action)\n",
                "\n",
                "    #     done = terminated or truncated\n",
                "    # print(\"Two slopes flex oracle score:\", info[\"score\"])\n",
                "\n",
                "    # env.piecewise_linear_action = True\n",
                "    # env.two_slopes_action = False\n",
                "    # env.reset(budget=env.total_budget, target_cpa=env.target_cpa, advertiser=env.advertiser, period=env.period)\n",
                "    # done = False\n",
                "    # while not done:\n",
                "    #     # action = env.get_oracle_upgrade_action()\n",
                "    #     action = env.get_oracle_upgrade_action()\n",
                "    #     _, _, terminated, truncated, info = env.step(action)\n",
                "\n",
                "    #     done = terminated or truncated\n",
                "    # print(\"Piecewise flex oracle score:\", info[\"score\"])\n",
                "\n",
                "    # env.piecewise_linear_action = using_piecewise\n",
                "    # env.two_slopes_action = using_two_slopes\n",
                "    env.oracle_upgrade = using_oracle_upgrade\n"
            ]
        },
        {
            "cell_type": "code",
            "execution_count": 11,
            "metadata": {},
            "outputs": [
                {
                    "name": "stdout",
                    "output_type": "stream",
                    "text": [
                        "Budget: 4802.130547868749 Target cpa: 85.04566376963491 Advertiser: 34.0 Period: 27.0\n"
                    ]
                }
            ],
            "source": [
                "# env.reset(budget=env.total_budget, target_cpa=env.target_cpa, advertiser=env.advertiser, period=env.period)\n",
                "env.reset()\n",
                "print(\"Budget:\", env.total_budget, \"Target cpa:\", env.target_cpa, \"Advertiser:\", env.advertiser, \"Period:\", env.period)"
            ]
        },
        {
            "cell_type": "code",
            "execution_count": 12,
            "metadata": {},
            "outputs": [
                {
                    "name": "stdout",
                    "output_type": "stream",
                    "text": [
                        "[-0.58872583] [13.8102817] [0.01075988]\n"
                    ]
                },
                {
                    "ename": "NameError",
                    "evalue": "name 'train_env' is not defined",
                    "output_type": "error",
                    "traceback": [
                        "\u001b[0;31m---------------------------------------------------------------------------\u001b[0m",
                        "\u001b[0;31mNameError\u001b[0m                                 Traceback (most recent call last)",
                        "Cell \u001b[0;32mIn[12], line 31\u001b[0m\n\u001b[1;32m     28\u001b[0m \u001b[38;5;28mprint\u001b[39m(y_0, x_0 \u001b[38;5;241m*\u001b[39m \u001b[38;5;241m1000\u001b[39m, slope \u001b[38;5;241m*\u001b[39m \u001b[38;5;241m1e-3\u001b[39m)\n\u001b[1;32m     30\u001b[0m state_dict \u001b[38;5;241m=\u001b[39m env\u001b[38;5;241m.\u001b[39munwrapped\u001b[38;5;241m.\u001b[39mget_state_dict(pvalues, pvalue_sigmas)\n\u001b[0;32m---> 31\u001b[0m state \u001b[38;5;241m=\u001b[39m \u001b[43mtrain_env\u001b[49m\u001b[38;5;241m.\u001b[39munwrapped\u001b[38;5;241m.\u001b[39mget_state(state_dict)\n\u001b[1;32m     32\u001b[0m norm_obs \u001b[38;5;241m=\u001b[39m vecnormalize\u001b[38;5;241m.\u001b[39mnormalize_obs(state)\n\u001b[1;32m     33\u001b[0m model_action, _ \u001b[38;5;241m=\u001b[39m model\u001b[38;5;241m.\u001b[39mpredict(\n\u001b[1;32m     34\u001b[0m     norm_obs,\n\u001b[1;32m     35\u001b[0m     deterministic\u001b[38;5;241m=\u001b[39m\u001b[38;5;28;01mTrue\u001b[39;00m,\n\u001b[1;32m     36\u001b[0m )\n",
                        "\u001b[0;31mNameError\u001b[0m: name 'train_env' is not defined"
                    ]
                }
            ],
            "source": [
                "env.piecewise_linear_action = False\n",
                "env.two_slopes_action = False\n",
                "\n",
                "flex_action = env.get_oracle_upgrade_action()\n",
                "realistic_action = env.get_realistic_oracle_action()\n",
                "pvalues, pvalue_sigmas = env.get_pvalues_mean_and_std()\n",
                "sorted_pvalues = np.sort(pvalues)\n",
                "_, _, terminated, truncated, info = env.step(flex_action)\n",
                "\n",
                "const_val = flex_action[np.argmin(pvalues)]\n",
                "y_0 = 1 / const_val\n",
                "mask = (flex_action != const_val).flatten()\n",
                "y = 1 / flex_action[mask] - 1 / const_val\n",
                "x = pvalues[mask]\n",
                "if len(x) < 10:\n",
                "    slope = 0\n",
                "    intercept = 0\n",
                "    x_0 = 0\n",
                "else:\n",
                "    slope, intercept = np.polyfit(x, y, 1)\n",
                "    x_0 = - intercept / slope\n",
                "    # plt.scatter(x, y, s=2)\n",
                "    # plt.plot(x, slope * x + intercept, color=\"r\")  \n",
                "    # plt.show()\n",
                "y_pred = y_0 * np.ones_like(pvalues)\n",
                "y_pred[pvalues > x_0] = y_0 + slope * (pvalues[pvalues > x_0] - x_0)\n",
                "\n",
                "print(y_0, x_0 * 1000, slope * 1e-3)\n",
                "\n",
                "state_dict = env.unwrapped.get_state_dict(pvalues, pvalue_sigmas)\n",
                "state = train_env.unwrapped.get_state(state_dict)\n",
                "norm_obs = vecnormalize.normalize_obs(state)\n",
                "model_action, _ = model.predict(\n",
                "    norm_obs,\n",
                "    deterministic=True,\n",
                ")\n",
                "bid_coef = train_env.unwrapped.compute_bid_coef(\n",
                "    model_action, pvalues, pvalue_sigmas\n",
                ")\n",
                "bids = bid_coef * env.unwrapped.target_cpa\n",
                "\n",
                "\n",
                "# Make the two plots side by side\n",
                "fig, ax = plt.subplots(1, 3, figsize=(15, 5))\n",
                "ax[0].scatter(pvalues, flex_action * pvalues[:, None], s=2, alpha=0.3)\n",
                "ax[0].plot(sorted_pvalues, realistic_action * sorted_pvalues, color=\"g\")\n",
                "ax[0].scatter(pvalues, pvalues / y_pred, color=\"r\", s=2)\n",
                "ax[0].scatter(pvalues, bid_coef, color=\"b\", s=2, alpha=0.1)\n",
                "ax[0].set_xlabel(\"pValue\")\n",
                "ax[0].set_ylabel(\"Bid\")\n",
                "ax[0].set_xlim(0, 0.005)\n",
                "ax[0].set_ylim(0, 0.005)\n",
                "\n",
                "ax[1].scatter(pvalues, flex_action, s=2, alpha=0.3)\n",
                "ax[1].scatter(pvalues, 1 / y_pred, color=\"r\", s=2)\n",
                "ax[1].set_xlabel(\"pValue\")\n",
                "ax[1].set_ylabel(\"Bid coefficient\")\n",
                "ax[1].set_xlim(0, 0.005)\n",
                "ax[1].set_ylim(0, 5)\n",
                "\n",
                "ax[2].scatter(pvalues, 1 / flex_action, s=2, alpha=0.3)\n",
                "ax[2].scatter(pvalues, y_pred, color=\"r\", s=2)\n",
                "# ax[2].scatter(pvalues, slope * pvalues + intercept + 1 / const_val, color=\"g\", s=2)\n",
                "ax[2].set_xlabel(\"pValue\")\n",
                "ax[2].set_ylabel(\"Inverse bid coefficient\")\n",
                "ax[2].set_xlim(0, 0.005)\n",
                "ax[2].set_ylim(0, 5)\n",
                "plt.show()\n",
                "done = terminated or truncated\n",
                "if done:\n",
                "    print(\"Flex oracle score:\", info[\"score\"])\n",
                "    \n",
                "# plt.scatter(pvalues, pvalue_sigmas, s=2, alpha=0.1)"
            ]
        },
        {
            "cell_type": "code",
            "execution_count": 13,
            "metadata": {},
            "outputs": [
                {
                    "data": {
                        "text/plain": [
                            "99"
                        ]
                    },
                    "execution_count": 13,
                    "metadata": {},
                    "output_type": "execute_result"
                }
            ],
            "source": [
                "# Boxplot with the distribution of the p-values\n",
                "\n",
                "pvalues = np.concatenate(env.pvalues_df.pValue.to_list())\n",
                "\n",
                "# plt.figure()\n",
                "# plt.boxplot(pvalues)\n",
                "\n",
                "n_separators = 100\n",
                "sorted_pv = np.sort(pvalues)\n",
                "num_points = len(sorted_pv) // n_separators\n",
                "\n",
                "separators = sorted_pv[np.arange(num_points, len(sorted_pv) - num_points, num_points)]\n",
                "len(separators)"
            ]
        },
        {
            "cell_type": "code",
            "execution_count": 14,
            "metadata": {},
            "outputs": [
                {
                    "data": {
                        "text/plain": [
                            "<matplotlib.collections.PathCollection at 0xe4f2cbf9f2e0>"
                        ]
                    },
                    "execution_count": 14,
                    "metadata": {},
                    "output_type": "execute_result"
                },
                {
                    "data": {
                        "image/png": "[encoded data removed]",
                        "text/plain": [
                            "<Figure size 640x480 with 1 Axes>"
                        ]
                    },
                    "metadata": {},
                    "output_type": "display_data"
                }
            ],
            "source": [
                "plt.scatter(np.arange(len(separators) + 2), [0, *separators, sorted_pv[-1]])"
            ]
        },
        {
            "cell_type": "code",
            "execution_count": null,
            "metadata": {},
            "outputs": [],
            "source": []
        },
        {
            "cell_type": "code",
            "execution_count": null,
            "metadata": {},
            "outputs": [],
            "source": [
                "target_cpa = 96.69004106767193\n",
                "total_budget = 3085.854978423787\n",
                "advertiser = 22\n",
                "env.reset(budget=total_budget, target_cpa=target_cpa, advertiser=advertiser)\n",
                "print(\"Budget:\", env.total_budget, \"Target cpa:\", env.target_cpa, \"Advertiser:\", env.advertiser, \"Period:\", env.period)\n",
                "\n",
                "done = False\n",
                "while not done:\n",
                "    flex_action = env.get_oracle_upgrade_action()\n",
                "    _, _, terminated, truncated, info = env.step(flex_action)\n",
                "\n",
                "    done = terminated or truncated\n",
                "print(\"Flex oracle score:\", info[\"score\"])\n",
                "\n",
                "# flex_score, flex_impressions, flex_slots, flex_ratios, flex_costs, flex_pvs = compute_oracle_upgrade_score(env)\n",
                "# print(\"Expected flex oracle score:\", flex_score)"
            ]
        },
        {
            "cell_type": "code",
            "execution_count": null,
            "metadata": {},
            "outputs": [],
            "source": [
                "plt.scatter(imp_df.pv, imp_df.cost, s=2, alpha=0.05)\n",
                "xx = np.linspace(0, imp_df.pv.max(), 100)\n",
                "plt.plot(xx, realistic_oracle_action * xx * env.target_cpa, color=\"red\")\n",
                "\n",
                "yy = realistic_oracle_action * env.target_cpa * np.log(200 * xx + 1) * 0.005\n",
                "plt.plot(xx, yy, color=\"green\")"
            ]
        },
        {
            "cell_type": "code",
            "execution_count": null,
            "metadata": {},
            "outputs": [],
            "source": [
                "\n",
                "from sklearn.linear_model import QuantileRegressor\n",
                "\n",
                "X = np.log(imp_df.pv.values.reshape(-1, 1) + 1)\n",
                "y = imp_df.cost\n",
                "model = QuantileRegressor(quantile=0.95, alpha=0)\n",
                "model.fit(X, y)\n",
                "\n",
                "xx = np.linspace(0, imp_df.pv.max(), 100)\n",
                "yy = model.predict(np.log(xx.reshape(-1, 1) + 1))\n",
                "\n",
                "plt.scatter(imp_df.pv, imp_df.cost, s=2, alpha=0.05)\n",
                "plt.plot(xx, yy, color=\"green\")\n",
                "plt.plot(xx, realistic_oracle_action * xx * env.target_cpa, color=\"red\")\n"
            ]
        },
        {
            "cell_type": "code",
            "execution_count": null,
            "metadata": {},
            "outputs": [],
            "source": [
                "# for t in range(48):\n",
                "#     plt.figure()\n",
                "#     t_df = imp_df[imp_df.time == t]\n",
                "#     plt.scatter(t_df.pv, t_df.cost, s=2, alpha=0.5)\n",
                "#     plt.xlim(0, imp_df.pv.max())\n",
                "#     plt.ylim(0, imp_df.cost.max())\n",
                "    \n",
                "#     plt.show()"
            ]
        },
        {
            "cell_type": "code",
            "execution_count": null,
            "metadata": {},
            "outputs": [],
            "source": [
                "# env.reset()\n",
                "# oracle_action = env.get_oracle_action()\n",
                "# print(oracle_action)\n",
                "# simplified_oracle_action = env.get_simplified_oracle_action()\n",
                "# print(simplified_oracle_action)\n",
                "\n",
                "# cost_table = np.vstack(env.episode_bids_df.bid)\n",
                "# exposed_table = np.vstack(env.episode_bids_df.isExposed)\n",
                "# pvalues_arr = np.concatenate(env.episode_pvalues_df.pValue.to_list())\n",
                "# time_arr = np.repeat(\n",
                "#     np.arange(len(env.episode_pvalues_df)),\n",
                "#     env.episode_pvalues_df.pValue.apply(len),\n",
                "# )\n",
                "# exposed_prob = np.mean(exposed_table, axis=0)\n",
                "# eff_cost_table = cost_table * exposed_prob\n",
                "# eff_pv_table = np.outer(pvalues_arr, exposed_prob)\n",
                "# pv_cost_table = eff_pv_table / eff_cost_table\n",
                "\n",
                "# print(\"Budget\", env.total_budget, \"target cpa\", env.target_cpa)\n",
                "# for action in (oracle_action, simplified_oracle_action):\n",
                "#     num_slot_won = (pv_cost_table * env.target_cpa * action > 1).sum(axis=1)\n",
                "\n",
                "#     slot_idx = num_slot_won[num_slot_won > 0] - 1\n",
                "#     total_cost = eff_cost_table[num_slot_won > 0, slot_idx].sum()\n",
                "#     total_pv = eff_pv_table[num_slot_won > 0, slot_idx].sum()\n",
                "#     cpa = total_cost / total_pv\n",
                "#     print(\"cost: \", total_cost, \"pv: \", total_pv, \"cpa: \", cpa)\n",
                "#     score = total_pv * min(1, (env.target_cpa / cpa)**2)\n",
                "#     print(\"score: \", score)"
            ]
        },
        {
            "cell_type": "code",
            "execution_count": null,
            "metadata": {},
            "outputs": [],
            "source": [
                "# bid_table = np.vstack(env.episode_bids_df.bid)\n",
                "# cost_table = np.vstack(env.episode_bids_df.cost)\n",
                "# full_cost_table = np.concatenate((cost_table, bid_table[:, -1:]), axis=1)\n",
                "# ad_id_table = np.vstack(env.episode_bids_df.advertiserNumber)\n",
                "# ad_id_mask = ad_id_table == env.advertiser\n",
                "# found_mask = np.any(ad_id_mask, axis=1).reshape(-1, 1)\n",
                "# full_mask = np.concatenate((~found_mask, ad_id_mask), axis=1)\n",
                "\n",
                "# cost_table = full_cost_table[~full_mask].reshape(-1, 3)\n",
                "\n",
                "# # cost_table = np.vstack(env.episode_bids_df.bid)\n",
                "# exposed_table = np.vstack(env.episode_bids_df.isExposed)\n",
                "# pvalues_arr = np.concatenate(env.episode_pvalues_df.pValue.to_list())\n",
                "\n",
                "# exposed_prob = np.mean(exposed_table, axis=0)\n",
                "# eff_cost_table = cost_table * exposed_prob\n",
                "# eff_pv_table = np.outer(pvalues_arr, exposed_prob)\n",
                "\n",
                "# # Compute the sum of the cost of the elements at position impression and slot\n",
                "# cost_sum = np.sum(eff_cost_table[imp_df.impression, imp_df.slot])\n",
                "# print(cost_sum)\n",
                "# conversion_sum = np.sum(eff_pv_table[imp_df.impression, imp_df.slot])\n",
                "# print(conversion_sum)\n",
                "# cpa = cost_sum / conversion_sum\n",
                "# score = conversion_sum * min(1, (env.target_cpa / cpa)**2)\n",
                "# print(score)"
            ]
        },
        {
            "cell_type": "code",
            "execution_count": null,
            "metadata": {},
            "outputs": [],
            "source": [
                "# def prepare_impressions(eff_cost_table, eff_pv_table):\n",
                "#     slot_3_cost = eff_cost_table[:, 0]\n",
                "#     upgrade_3_2_cost = eff_cost_table[:, 1] - eff_cost_table[:, 0]\n",
                "#     upgrade_2_1_cost = eff_cost_table[:, 2] - eff_cost_table[:, 1]\n",
                "#     upgrade_3_1_cost = eff_cost_table[:, 2] - eff_cost_table[:, 0]\n",
                "#     slot_3_pv = eff_pv_table[:, 0]\n",
                "#     upgrade_3_2_pv = eff_pv_table[:, 1] - eff_pv_table[:, 0]\n",
                "#     upgrade_2_1_pv = eff_pv_table[:, 2] - eff_pv_table[:, 1]\n",
                "#     upgrade_3_1_pv = eff_pv_table[:, 2] - eff_pv_table[:, 0]\n",
                "#     slot_3_ratio = slot_3_pv / slot_3_cost\n",
                "#     upgrade_3_2_ratio = upgrade_3_2_pv / upgrade_3_2_cost\n",
                "#     upgrade_2_1_ratio = upgrade_2_1_pv / upgrade_2_1_cost\n",
                "#     upgrade_3_1_ratio = upgrade_3_1_pv / upgrade_3_1_cost\n",
                "\n",
                "#     # Test\n",
                "#     # No 3_2 upgrade should be better than slot 3 (see theory)\n",
                "#     assert (upgrade_3_2_ratio > slot_3_ratio).mean() == 0\n",
                "#     # No 3_1 upgrade should be better than slot 3 (see theory)\n",
                "#     assert (upgrade_3_1_ratio > slot_3_ratio).mean() == 0\n",
                "#     # If 2_1 is better than 3_2, then 3_1 should be better than 3_2 (see theory)\n",
                "#     assert ((upgrade_2_1_ratio > upgrade_3_2_ratio) == (upgrade_3_1_ratio > upgrade_3_2_ratio)).all()\n",
                "\n",
                "#     mask = upgrade_3_2_ratio > upgrade_2_1_ratio\n",
                "\n",
                "#     flat_ratio = np.concatenate((slot_3_ratio, upgrade_3_2_ratio[mask], upgrade_2_1_ratio[mask], upgrade_3_1_ratio[~mask]))\n",
                "#     flat_eff_cost = np.concatenate((slot_3_cost, upgrade_3_2_cost[mask], upgrade_2_1_cost[mask], upgrade_3_1_cost[~mask]))\n",
                "#     flat_eff_pv = np.concatenate((slot_3_pv, upgrade_3_2_pv[mask], upgrade_2_1_pv[mask], upgrade_3_1_pv[~mask]))\n",
                "#     slot_indices = np.concatenate((np.zeros_like(slot_3_ratio), np.ones_like(upgrade_3_2_ratio[mask]), 2*np.ones_like(upgrade_2_1_ratio[mask]), 2*np.ones_like(upgrade_3_1_ratio[~mask])))\n",
                "#     all_imp = np.arange(eff_cost_table.shape[0])\n",
                "#     impression_indices = np.concatenate((all_imp, all_imp[mask], all_imp[mask], all_imp[~mask]))\n",
                "    \n",
                "#     # Exclude pv equal to 0 - never good and could cause issues in ranking\n",
                "#     valid_mask = flat_eff_pv > 0\n",
                "#     flat_ratio = flat_ratio[valid_mask]\n",
                "#     flat_eff_cost = flat_eff_cost[valid_mask]\n",
                "#     flat_eff_pv = flat_eff_pv[valid_mask]\n",
                "#     slot_indices = slot_indices[valid_mask]\n",
                "#     impression_indices = impression_indices[valid_mask]\n",
                "\n",
                "#     # Step 4: Rank all impressions by pv/cost ratio (descending)\n",
                "#     # Exclude the pvalues equal to 0\n",
                "#     sorted_indices = np.argsort(-flat_ratio)  # negative sign for descending order\n",
                "    \n",
                "#     # Return the sorted indices along with corresponding impression and slot\n",
                "#     sorted_impression_indices = impression_indices[sorted_indices]\n",
                "#     sorted_slot_indices = slot_indices[sorted_indices]\n",
                "#     sorted_flat_ratio = flat_ratio[sorted_indices]\n",
                "#     sorted_flat_eff_cost = flat_eff_cost[sorted_indices]\n",
                "#     sorted_flat_eff_pv = flat_eff_pv[sorted_indices]\n",
                "    \n",
                "#     return sorted_impression_indices, sorted_slot_indices, sorted_flat_ratio, sorted_flat_eff_cost, sorted_flat_eff_pv\n",
                "\n",
                "# def compute_oracle_upgrade_score(env):\n",
                "#     cost_table = np.vstack(env.episode_bids_df.bid)\n",
                "#     exposed_table = np.vstack(env.episode_bids_df.isExposed)\n",
                "#     pvalues_arr = np.concatenate(env.episode_pvalues_df.pValue.to_list())\n",
                "\n",
                "#     exposed_prob = np.mean(exposed_table, axis=0)\n",
                "#     eff_cost_table = cost_table * exposed_prob\n",
                "#     eff_pv_table = np.outer(pvalues_arr, exposed_prob)\n",
                "\n",
                "#     sorted_impressions, sorted_slots, sorted_ratios, sorted_eff_costs, sorted_eff_pv = prepare_impressions(eff_cost_table, eff_pv_table)\n",
                "\n",
                "#     target_cpa = env.target_cpa\n",
                "#     max_budget = env.total_budget\n",
                "#     cum_eff_cost = np.cumsum(sorted_eff_costs)\n",
                "#     cum_eff_pv = np.cumsum(sorted_eff_pv)\n",
                "\n",
                "#     cum_cpa = cum_eff_cost / cum_eff_pv\n",
                "#     cum_score = cum_eff_pv * np.minimum(1, (target_cpa / cum_cpa)**2) * (cum_eff_cost <= max_budget)\n",
                "#     max_score = cum_score.max()\n",
                "    \n",
                "#     # Get idx of the max score\n",
                "#     max_score_idx = np.argmax(cum_score)\n",
                "    \n",
                "#     # Return the max score, the impression and slot indices until the max score\n",
                "#     return max_score, sorted_impressions[:max_score_idx+1], sorted_slots[:max_score_idx+1], sorted_ratios[:max_score_idx+1], sorted_eff_costs[:max_score_idx+1], sorted_eff_pv[:max_score_idx+1]\n",
                "\n",
                "# flex_score, flex_impressions, flex_slots, flex_ratios, flex_costs, flex_pvs = compute_oracle_upgrade_score(env)\n",
                "# print(\"Expected flex oracle score:\", flex_score)\n",
                "\n",
                "# cost_table = np.vstack(env.episode_bids_df.bid)\n",
                "# exposed_table = np.vstack(env.episode_bids_df.isExposed)\n",
                "# pvalues_arr = np.concatenate(env.episode_pvalues_df.pValue.to_list())\n",
                "# time_arr = np.repeat(\n",
                "#     np.arange(len(env.episode_pvalues_df)),\n",
                "#     env.episode_pvalues_df.pValue.apply(len),\n",
                "# )\n",
                "# exposed_prob = np.mean(exposed_table, axis=0)\n",
                "# eff_cost_table = cost_table * exposed_prob\n",
                "# eff_pv_table = np.outer(pvalues_arr, exposed_prob)\n",
                "\n",
                "# df = pd.DataFrame({\n",
                "#     \"impression\": flex_impressions,\n",
                "#     \"slot\": flex_slots,\n",
                "#     \"ratio\": flex_ratios,\n",
                "#     \"cost\": flex_costs,\n",
                "#     \"pv\": flex_pvs\n",
                "# })\n",
                "# df[\"slot\"] = df[\"slot\"].apply(int)\n",
                "# imp_df = df.groupby(\"impression\").slot.max().reset_index()\n",
                "# imp_df[\"slot\"] = imp_df[\"slot\"].apply(int)\n",
                "# imp_df[\"pv\"] = eff_pv_table[imp_df.impression, imp_df.slot]\n",
                "# imp_df[\"cost\"] = eff_cost_table[imp_df.impression, imp_df.slot]\n",
                "# imp_df[\"time\"] = time_arr[imp_df.impression]\n",
                "\n",
                "# total_pv = imp_df.pv.sum()\n",
                "# total_cost = imp_df.cost.sum()\n",
                "# cpa = total_cost / total_pv\n",
                "# score = total_pv * min(1, (env.target_cpa / cpa)**2)\n",
                "# print(\"cost: \", total_cost, \"pv: \", total_pv, \"cpa: \", cpa, \"score: \", score)\n",
                "\n",
                "# plt.scatter(imp_df.pv, imp_df.cost, s=2, alpha=0.05)\n",
                "# xx = np.linspace(0, imp_df.pv.max(), 100)\n",
                "# plt.plot(xx, realistic_oracle_action * xx * env.target_cpa, color=\"red\")\n",
                "\n",
                "\n",
                "# df = pd.DataFrame({\n",
                "#     \"impression\": flex_impressions,\n",
                "#     \"slot\": flex_slots,\n",
                "# })\n",
                "# df[\"slot\"] = df[\"slot\"].apply(int)\n",
                "# imp_df = df.groupby(\"impression\").slot.max().reset_index()\n",
                "# imp_df[\"slot\"] = imp_df[\"slot\"].apply(int)\n",
                "# imp_df[\"pv\"] = eff_pv_table[imp_df.impression, imp_df.slot]\n",
                "# imp_df[\"cost\"] = eff_cost_table[imp_df.impression, imp_df.slot]\n",
                "# imp_df[\"time\"] = time_arr[imp_df.impression]\n",
                "\n",
                "# total_pv = imp_df.pv.sum()\n",
                "# total_cost = imp_df.cost.sum()\n",
                "# cpa = total_cost / total_pv\n",
                "# score = total_pv * min(1, (env.target_cpa / cpa)**2)\n",
                "# print(\"cost: \", total_cost, \"pv: \", total_pv, \"cpa: \", cpa, \"score: \", score)"
            ]
        },
        {
            "cell_type": "code",
            "execution_count": null,
            "metadata": {},
            "outputs": [],
            "source": [
                "df[\"real_pv\"] = eff_pv_table[df.impression, df.slot]\n",
                "g_df = df.groupby(\"impression\").agg({\"real_pv\": \"max\", \"pv\": \"sum\"})\n",
                "print(np.allclose(g_df.pv, g_df.real_pv))"
            ]
        },
        {
            "cell_type": "code",
            "execution_count": null,
            "metadata": {},
            "outputs": [],
            "source": [
                "g_df[g_df.real_pv != g_df.pv]"
            ]
        },
        {
            "cell_type": "code",
            "execution_count": null,
            "metadata": {},
            "outputs": [],
            "source": [
                "g_df.pv.sum()"
            ]
        },
        {
            "cell_type": "code",
            "execution_count": 186,
            "metadata": {},
            "outputs": [],
            "source": [
                "bid_table = np.vstack(env.episode_bids_df.bid)\n",
                "cost_table = np.vstack(env.episode_bids_df.cost)\n",
                "full_cost_table = np.concatenate((cost_table, bid_table[:, -1:]), axis=1)\n",
                "ad_id_table = np.vstack(env.episode_bids_df.advertiserNumber)\n",
                "ad_id_mask = ad_id_table == env.advertiser\n",
                "found_mask = np.any(ad_id_mask, axis=1).reshape(-1, 1)\n",
                "full_mask = np.concatenate((~found_mask, ad_id_mask), axis=1)\n",
                "\n",
                "cost_table = full_cost_table[~full_mask].reshape(-1, 3)\n",
                "\n",
                "# cost_table = np.vstack(env.episode_bids_df.bid)\n",
                "exposed_table = np.vstack(env.episode_bids_df.isExposed)\n",
                "pvalues_arr = np.concatenate(env.episode_pvalues_df.pValue.to_list())\n",
                "\n",
                "exposed_prob = np.mean(exposed_table, axis=0)\n",
                "eff_cost_table = cost_table * exposed_prob\n",
                "eff_pv_table = np.outer(pvalues_arr, exposed_prob)\n",
                "\n",
                "sorted_impressions, sorted_slots, sorted_ratios, sorted_eff_costs, sorted_eff_pv = prepare_impressions(eff_cost_table, eff_pv_table)"
            ]
        },
        {
            "cell_type": "code",
            "execution_count": null,
            "metadata": {},
            "outputs": [],
            "source": [
                "plt.figure()\n",
                "plt.scatter(np.arange(len(sorted_ratios)), sorted_ratios, s=2)"
            ]
        },
        {
            "cell_type": "code",
            "execution_count": null,
            "metadata": {},
            "outputs": [],
            "source": [
                "# Benchmark execution time for 5 episodes\n",
                "import time\n",
                "start = time.time()\n",
                "for _ in range(5):\n",
                "    env.reset()\n",
                "    done = False\n",
                "    while not done:\n",
                "        flex_action = env.get_simplified_oracle_action()\n",
                "        _, _, terminated, truncated, info = env.step(flex_action)\n",
                "        done = terminated or truncated\n",
                "print(\"Simplified oracle execution time:\", time.time() - start)\n",
                "\n",
                "start = time.time()\n",
                "for _ in range(10):\n",
                "    env.reset()\n",
                "    done = False\n",
                "    while not done:\n",
                "        flex_action = env.get_realistic_oracle_action()\n",
                "        _, _, terminated, truncated, info = env.step(flex_action)\n",
                "        done = terminated or truncated\n",
                "print(\"Oracle execution time:\", time.time() - start)"
            ]
        },
        {
            "cell_type": "code",
            "execution_count": 14,
            "metadata": {},
            "outputs": [],
            "source": [
                "def optimize_alpha_with_budget(pv_cost_table, eff_cost_table, eff_pv_table, target_cpa, budget):\n",
                "    # Initialize values\n",
                "    n_impressions, n_slots = pv_cost_table.shape\n",
                "    \n",
                "    # Step 1: List all impression opportunities\n",
                "    # np array of shape (n_impressions * n_slots, 3) with columns: id, slot, pv_cost\n",
                "    impression_ids = np.zeros(n_impressions * n_slots, dtype=int)\n",
                "    slots = np.zeros(n_impressions * n_slots, dtype=int)\n",
                "    pv_costs = np.zeros(n_impressions * n_slots, dtype=np.float32)\n",
                "    \n",
                "    for i in range(n_impressions):\n",
                "        for slot in range(n_slots):\n",
                "            impression_ids[i * n_slots + slot] = i\n",
                "            slots[i * n_slots + slot] = slot\n",
                "            pv_costs[i * n_slots + slot] = pv_cost_table[i, slot]\n",
                "\n",
                "    # Step 2: Sort by pv/cost (descending)\n",
                "    sort_indices = np.argsort(pv_costs)[::-1]\n",
                "    impression_ids = impression_ids[sort_indices]\n",
                "    slots = slots[sort_indices]\n",
                "    pv_costs = pv_costs[sort_indices]\n",
                "        \n",
                "    # Variables to track total cost, total pv, best score, and corresponding alpha\n",
                "    cum_cost = 0\n",
                "    cum_pv = 0\n",
                "    best_score = -np.inf\n",
                "    best_alpha = None\n",
                "    \n",
                "    # Store current slot selection per impression\n",
                "    current_slot = [-1] * n_impressions  # -1 means no slot is currently selected\n",
                "\n",
                "    # Store values of cost, pv, cpa, and score at each step\n",
                "    stored_data = []\n",
                "\n",
                "    # Step 3: Iterate through the sorted impressions\n",
                "    for imp_id, new_slot, pv_cost in zip(impression_ids, slots, pv_costs):\n",
                "\n",
                "        # Remove the old contribution from the previous slot if it was set\n",
                "        if current_slot[imp_id] != -1:\n",
                "            prev_slot = current_slot[imp_id]\n",
                "            cum_cost -= eff_cost_table[imp_id, prev_slot]\n",
                "            cum_pv -= eff_pv_table[imp_id, prev_slot]\n",
                "        \n",
                "        # Add the new contribution for the current slot\n",
                "        cum_cost += eff_cost_table[imp_id, new_slot]\n",
                "        cum_pv += eff_pv_table[imp_id, new_slot]\n",
                "        \n",
                "        # Update the current slot for this impression\n",
                "        current_slot[imp_id] = new_slot\n",
                "        \n",
                "        # Early termination if cost exceeds the budget\n",
                "        # if cum_cost > budget:\n",
                "        #     break\n",
                "        \n",
                "        # Compute CPA and score\n",
                "        cpa = cum_cost / cum_pv if cum_pv > 0 else np.inf\n",
                "        score = cum_pv * min((target_cpa / cpa)**2, 1)\n",
                "        \n",
                "        # Store current total cost, total pv, cpa, and score\n",
                "        stored_data.append((cum_cost, cum_pv, cpa, score))\n",
                "        \n",
                "        # Step 4: Find the maximum score within the budget constraint\n",
                "        if score > best_score:\n",
                "            best_score = score\n",
                "            best_alpha = 1 / pv_cost  # Set alpha as cost / pv of max score\n",
                "\n",
                "    # Return the best alpha, best score, and the index where the max score occurs\n",
                "    return best_alpha / target_cpa, best_score, stored_data"
            ]
        },
        {
            "cell_type": "code",
            "execution_count": null,
            "metadata": {},
            "outputs": [],
            "source": [
                "cost_table = np.vstack(env.episode_bids_df.bid)\n",
                "exposed_table = np.vstack(env.episode_bids_df.isExposed)\n",
                "pvalues_arr = np.concatenate(env.episode_pvalues_df.pValue.to_list())\n",
                "time_arr = np.repeat(\n",
                "                    np.arange(len(env.episode_pvalues_df)),\n",
                "                    env.episode_pvalues_df.pValue.apply(len),\n",
                "                )\n",
                "\n",
                "exposed_prob = np.mean(exposed_table, axis=0)\n",
                "eff_cost_table = cost_table * exposed_prob\n",
                "eff_pv_table = np.outer(pvalues_arr, exposed_prob)\n",
                "\n",
                "pv_cost_table = eff_pv_table / eff_cost_table\n",
                "\n",
                "# Example call with appropriate inputs\n",
                "best_alpha, best_score, data = optimize_alpha_with_budget(\n",
                "    pv_cost_table, eff_cost_table, eff_pv_table, target_cpa=60, budget=5000\n",
                ")\n"
            ]
        },
        {
            "cell_type": "code",
            "execution_count": null,
            "metadata": {},
            "outputs": [],
            "source": [
                "\n",
                "costs, pvs, cpas, scores = zip(*data)\n",
                "x = costs\n",
                "\n",
                "plt.plot(x, costs, label='Cost')\n",
                "plt.legend()\n",
                "plt.show()\n",
                "plt.plot(x, pvs, label='PV')\n",
                "plt.legend()\n",
                "plt.show()\n",
                "plt.plot(x, cpas, label='CPA')\n",
                "plt.legend()\n",
                "plt.show()\n",
                "plt.plot(x, scores, label='Score')\n",
                "plt.legend()\n",
                "plt.show()\n"
            ]
        },
        {
            "cell_type": "code",
            "execution_count": 63,
            "metadata": {},
            "outputs": [],
            "source": [
                "n_impressions, n_slots = pv_cost_table.shape\n",
                "\n",
                "# Step 1: List all impression opportunities\n",
                "# np array of shape (n_impressions * n_slots, 3) with columns: id, slot, pv_cost\n",
                "impression_ids = np.zeros(n_impressions * n_slots, dtype=int)\n",
                "slots = np.zeros(n_impressions * n_slots, dtype=int)\n",
                "pv_costs = np.zeros(n_impressions * n_slots, dtype=np.float32)\n",
                "costs = np.zeros(n_impressions * n_slots, dtype=np.float32)\n",
                "pvs = np.zeros(n_impressions * n_slots, dtype=np.float32)\n",
                "\n",
                "for i in range(n_impressions):\n",
                "    for slot in range(n_slots):\n",
                "        impression_ids[i * n_slots + slot] = i\n",
                "        slots[i * n_slots + slot] = slot\n",
                "        pv_costs[i * n_slots + slot] = pv_cost_table[i, slot]\n",
                "        costs[i * n_slots + slot] = eff_cost_table[i, slot]\n",
                "        pvs[i * n_slots + slot] = eff_pv_table[i, slot]\n",
                "\n",
                "# Step 2: Sort by pv/cost (descending)\n",
                "sort_indices = np.argsort(pv_costs)[::-1]\n",
                "impression_ids = impression_ids[sort_indices]\n",
                "slots = slots[sort_indices]\n",
                "pv_costs = pv_costs[sort_indices]\n",
                "costs = costs[sort_indices]\n",
                "pvs = pvs[sort_indices]"
            ]
        },
        {
            "cell_type": "code",
            "execution_count": null,
            "metadata": {},
            "outputs": [],
            "source": [
                "for slot_id in np.unique(slots):\n",
                "    slot_mask = slots == slot_id\n",
                "    masked_costs = costs[slot_mask]\n",
                "    masked_pvs = pvs[slot_mask]\n",
                "    cum_costs = np.cumsum(masked_costs)\n",
                "    cum_pvs = np.cumsum(masked_pvs)\n",
                "    cpas = cum_costs / cum_pvs\n",
                "    scores = cum_pvs * np.minimum((60 / cpas)**2, 1)\n",
                "    plt.plot(cum_costs, scores, label=f'Slot {- slot_id + 3}')\n",
                "    plt.xlabel('Cost')\n",
                "    plt.ylabel('Score')\n",
                "plt.legend()"
            ]
        },
        {
            "cell_type": "code",
            "execution_count": null,
            "metadata": {},
            "outputs": [],
            "source": []
        },
        {
            "cell_type": "code",
            "execution_count": null,
            "metadata": {},
            "outputs": [],
            "source": [
                "costs"
            ]
        },
        {
            "cell_type": "code",
            "execution_count": null,
            "metadata": {},
            "outputs": [],
            "source": [
                "env.episode_bids_df.keys()\n"
            ]
        },
        {
            "cell_type": "code",
            "execution_count": null,
            "metadata": {},
            "outputs": [],
            "source": [
                "env.reset(budget=3000, target_cpa=6, advertiser=0, period=7)\n",
                "print(env.episode_bids_df.iloc[0].bid[:5])\n",
                "print(env.episode_bids_df.iloc[0].cost[:5])\n",
                "\n",
                "env.auction_noise = 0.1\n",
                "env.reset(budget=3000, target_cpa=6, advertiser=0, period=7)\n",
                "print(env.episode_bids_df.iloc[0].bid[:5])\n",
                "print(env.episode_bids_df.iloc[0].cost[:5])"
            ]
        },
        {
            "cell_type": "code",
            "execution_count": null,
            "metadata": {},
            "outputs": [],
            "source": [
                "def noisy_bid_and_cost(row, noise): \n",
                "    bid = row['bid']\n",
                "    cost = row['cost'] \n",
                "    second_price_ratio = cost[:, 0] / bid[:, 0]\n",
                "    \n",
                "    # Add noise to bids\n",
                "    noisy_bid = bid * (1 + np.random.uniform(-noise, noise, bid.shape))\n",
                "    noisy_bid = np.sort(noisy_bid, axis=1)\n",
                "    noisy_cost = np.zeros_like(noisy_bid)\n",
                "    noisy_cost[:, 0] = noisy_bid[:, 0] * second_price_ratio\n",
                "    noisy_cost[:, 1:] = noisy_bid[:, :-1]\n",
                "    \n",
                "    # Return the modified noisy_bid and noisy_cost\n",
                "    return pd.Series([noisy_bid, noisy_cost])\n",
                "\n",
                "env.reset()\n",
                "print(env.episode_bids_df.iloc[0].bid[:5])\n",
                "\n",
                "# Apply the function and directly replace \"bid\" and \"cost\" columns\n",
                "env.episode_bids_df[['bid', 'cost']] = env.episode_bids_df.apply(noisy_bid_and_cost, noise=0.1, axis=1)\n",
                "\n",
                "# Check the result\n",
                "print(env.episode_bids_df.iloc[0].bid[:5])"
            ]
        },
        {
            "cell_type": "code",
            "execution_count": null,
            "metadata": {},
            "outputs": [],
            "source": [
                "noise = 0.3\n",
                "env.reset()\n",
                "bid = env.episode_bids_df.iloc[0].bid\n",
                "cost = env.episode_bids_df.iloc[0].cost\n",
                "second_price_ratio = cost[:, 0] / bid[:, 0]\n",
                "\n",
                "noisy_bid = bid * (1 + np.random.uniform(-noise, noise, bid.shape))\n",
                "noisy_bid = np.sort(noisy_bid, axis=1)\n",
                "noisy_cost = np.zeros_like(noisy_bid)\n",
                "noisy_cost[:, 0] = noisy_bid[:, 0] * second_price_ratio\n",
                "noisy_cost[:, 1:] = noisy_bid[:, :-1]\n",
                "\n",
                "print(bid[:5])\n",
                "print(noisy_bid[:5])\n",
                "print(cost[:5])\n",
                "print(noisy_cost[:5])\n",
                "\n"
            ]
        },
        {
            "cell_type": "code",
            "execution_count": null,
            "metadata": {},
            "outputs": [],
            "source": [
                "sorted_noisy_bid"
            ]
        },
        {
            "cell_type": "code",
            "execution_count": null,
            "metadata": {},
            "outputs": [],
            "source": [
                "(sorted_noisy_cost == np.sort(sorted_noisy_cost, axis=1)).all()"
            ]
        },
        {
            "cell_type": "code",
            "execution_count": null,
            "metadata": {},
            "outputs": [],
            "source": [
                "sorting_idx = np.argsort(noisy_bid, axis=1)\n",
                "sorted_noisy_bid = np.take_along_axis(noisy_bid, sorting_idx, axis=1)\n",
                "(sorted_noisy_bid == np.sort(noisy_bid, axis=1)).all()\n"
            ]
        },
        {
            "cell_type": "code",
            "execution_count": null,
            "metadata": {},
            "outputs": [],
            "source": [
                "# Measure the execution time of 10 runs\n",
                "import time\n",
                "start = time.time()\n",
                "for _ in range(10):\n",
                "# Test env execution\n",
                "    total_budget = 8000\n",
                "    target_cpa = 8\n",
                "    advertiser = 0\n",
                "    period = 7\n",
                "    state = env.reset(total_budget, target_cpa, advertiser, period)\n",
                "    topline_action = env.get_oracle_action()\n",
                "    ranked_df = env.ranked_df\n",
                "    should_win_count = len(ranked_df[ranked_df.pv_over_cost >= 1. / topline_action.item() / target_cpa])\n",
                "    print(env.advertiser, env.period, topline_action)\n",
                "    done = False\n",
                "    action_list = []\n",
                "    while not done:\n",
                "        # action = env.target_cpa * 1.2\n",
                "        flex_action = env.get_oracle_action()\n",
                "        # action = topline_action\n",
                "        action_list.append(flex_action)\n",
                "        state, reward, terminated, truncated, _ = env.step(flex_action)\n",
                "        done = terminated or truncated\n",
                "        # print(f\"Action: {action}, Reward: {reward}, Done: {done}\")\n",
                "    print(\"Conversions:\", env.total_conversions)\n",
                "    print(\"Cost:\", env.total_cost)\n",
                "    print(\"Cpa:\", env.total_cost / env.total_conversions)\n",
                "    print(\"Reward:\", reward)\n",
                "\n",
                "    bids_won_list = [mbs * npv for mbs, npv in zip(env.mean_bid_success_list, env.num_pv_list)]\n",
                "    bids_won = sum(bids_won_list)\n",
                "    print(\"Should win count:\", should_win_count, \"Bids won:\", bids_won)\n",
                "\n",
                "    # plt.plot(action_list)\n",
                "# output execution time\n",
                "end = time.time()\n",
                "print(\"Execution time:\", end - start)"
            ]
        },
        {
            "cell_type": "code",
            "execution_count": null,
            "metadata": {},
            "outputs": [],
            "source": [
                "# Test env execution\n",
                "total_budget = 8000\n",
                "target_cpa = 8\n",
                "advertiser = 0\n",
                "period = 7\n",
                "state = env.reset(total_budget, target_cpa, advertiser, period)\n",
                "topline_action = env.get_oracle_action()\n",
                "ranked_df = env.ranked_df\n",
                "should_win_count = len(ranked_df[ranked_df.pv_over_cost >= 1. / topline_action.item() / target_cpa])\n",
                "print(env.advertiser, env.period, topline_action)\n",
                "done = False\n",
                "action_list = []"
            ]
        },
        {
            "cell_type": "code",
            "execution_count": null,
            "metadata": {},
            "outputs": [],
            "source": [
                "\n",
                "flex_action = env.get_oracle_action()\n",
                "# action = topline_action\n",
                "action_list.append(flex_action)\n",
                "state, reward, terminated, truncated, _ = env.step(flex_action)\n",
                "done = terminated or truncated\n",
                "# print(f\"Action: {action}, Reward: {reward}, Done: {done}\")\n",
                "print(\"Action:\", flex_action)\n",
                "print(\"State:\", state)\n",
                "print(\"Reward:\", reward)\n",
                "print(\"Conversions:\", env.total_conversions)\n",
                "print(\"Cost:\", env.total_cost)\n",
                "print(\"Cpa:\", env.total_cost / env.total_conversions)\n",
                "print(\"Reward:\", reward)\n",
                "\n",
                "# bids_won_list = [mbs * npv for mbs, npv in zip(env.mean_bid_success_list, env.num_pv_list)]\n",
                "# bids_won = sum(bids_won_list)\n",
                "# print(\"Should win count:\", should_win_count, \"Bids won:\", bids_won)\n",
                "\n",
                "# plt.plot(action_list)"
            ]
        },
        {
            "cell_type": "code",
            "execution_count": null,
            "metadata": {},
            "outputs": [],
            "source": [
                "env.target_cpa"
            ]
        },
        {
            "cell_type": "code",
            "execution_count": null,
            "metadata": {},
            "outputs": [],
            "source": [
                "should_win_count_list = []\n",
                "for ts in range(48):\n",
                "    should_win_count = len(ranked_df[(ranked_df.pv_over_cost >= 1. / topline_action / target_cpa)\n",
                "                                     & (ranked_df.time_step == ts)])\n",
                "    should_win_count_list.append(should_win_count)\n",
                "plt.plot(should_win_count_list)\n",
                "plt.plot(bids_won_list)\n",
                "plt.show()"
            ]
        },
        {
            "cell_type": "code",
            "execution_count": null,
            "metadata": {},
            "outputs": [],
            "source": [
                "# Test env execution\n",
                "total_budget = 10000\n",
                "target_cpa = 1\n",
                "advertiser = 0\n",
                "period = 7\n",
                "state = env.reset(total_budget, target_cpa, advertiser, period)\n",
                "topline_action = env.get_oracle_action()\n",
                "print(env.advertiser, env.period, topline_action)\n",
                "done = False\n",
                "action_list = []\n",
                "while not done:\n",
                "    # action = env.target_cpa * 1.2\n",
                "    flex_action = env.get_oracle_action()\n",
                "    action_list.append(flex_action)\n",
                "    state, reward, terminated, truncated, _ = env.step(flex_action)\n",
                "    done = terminated or truncated\n",
                "    # print(f\"Action: {action}, Reward: {reward}, Done: {done}\")\n",
                "print(\"Conversions:\", env.total_conversions)\n",
                "print(\"Cost:\", env.total_cost)\n",
                "print(\"Cpa:\", env.total_cost / env.total_conversions)\n",
                "print(\"Reward:\", reward)\n",
                "\n",
                "plt.plot(action_list)"
            ]
        },
        {
            "cell_type": "code",
            "execution_count": null,
            "metadata": {},
            "outputs": [],
            "source": [
                "conversion_list = [c * pv for c, pv in zip(env.mean_conversion_list, env.num_pv_list)]\n",
                "\n",
                "\n",
                "import matplotlib.pyplot as plt\n",
                "\n",
                "plt.plot(conversion_list)"
            ]
        }
    ],
    "metadata": {
        "kernelspec": {
            "display_name": "alibaba",
            "language": "python",
            "name": "python3"
        },
        "language_info": {
            "codemirror_mode": {
                "name": "ipython",
                "version": 3
            },
            "file_extension": ".py",
            "mimetype": "text/x-python",
            "name": "python",
            "nbconvert_exporter": "python",
            "pygments_lexer": "ipython3",
            "version": "3.9.12"
        }
    },
    "nbformat": 4,
    "nbformat_minor": 2
}
