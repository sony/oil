{
 "cells": [
  {
   "cell_type": "code",
   "execution_count": null,
   "metadata": {},
   "outputs": [],
   "source": [
    "import pandas as pd\n",
    "import numpy as np\n",
    "import matplotlib.pyplot as plt\n",
    "from definitions import ROOT_DIR"
   ]
  },
  {
   "cell_type": "code",
   "execution_count": null,
   "metadata": {},
   "outputs": [],
   "source": [
    "data_path = ROOT_DIR / \"data\" / \"raw_traffic\" / \"period-7.csv\"\n",
    "df = pd.read_csv(data_path)"
   ]
  },
  {
   "cell_type": "code",
   "execution_count": null,
   "metadata": {},
   "outputs": [],
   "source": [
    "df"
   ]
  },
  {
   "cell_type": "code",
   "execution_count": null,
   "metadata": {},
   "outputs": [],
   "source": [
    "df[\"standardConversionAction\"] = (df.conversionAction - df.pValue) / (df.pValue * (1 - df.pValue))\n",
    "exposed_df = df[df.isExposed == 1]\n",
    "exposed_df.groupby(\"adSlot\").agg({\"standardConversionAction\": [\"mean\", \"std\"]})"
   ]
  },
  {
   "cell_type": "code",
   "execution_count": null,
   "metadata": {},
   "outputs": [],
   "source": [
    "df.groupby(\"adSlot\").agg({\"standardConversionAction\": [\"mean\", \"std\"]})"
   ]
  },
  {
   "cell_type": "code",
   "execution_count": null,
   "metadata": {},
   "outputs": [],
   "source": [
    "df.groupby(\"adSlot\").agg({\"isExposed\": [\"mean\", \"std\"]})"
   ]
  },
  {
   "cell_type": "code",
   "execution_count": null,
   "metadata": {},
   "outputs": [],
   "source": [
    "df.groupby(\"adSlot\").agg({\"cost\": [\"mean\", \"std\"]})"
   ]
  },
  {
   "cell_type": "code",
   "execution_count": null,
   "metadata": {},
   "outputs": [],
   "source": [
    "slot_df = df[df.adSlot == 2]\n",
    "slot_df.standardConversionAction.describe()"
   ]
  },
  {
   "cell_type": "code",
   "execution_count": null,
   "metadata": {},
   "outputs": [],
   "source": [
    "df.groupby([\"timeStepIndex\", \"pvIndex\"]).agg({\"xi\": \"sum\", \"isExposed\": \"sum\"})\n",
    "df"
   ]
  },
  {
   "cell_type": "code",
   "execution_count": null,
   "metadata": {},
   "outputs": [],
   "source": [
    "pvalues_df = df.groupby([\"deliveryPeriodIndex\", \"timeStepIndex\", \"advertiserNumber\", \"advertiserCategoryIndex\"]).agg({\"pValue\": lambda x: x.tolist(), \"pValueSigma\": lambda x: x.tolist()})\n",
    "pvalues_df = pvalues_df.reset_index()\n",
    "pvalues_df"
   ]
  },
  {
   "cell_type": "code",
   "execution_count": null,
   "metadata": {},
   "outputs": [],
   "source": [
    "def generate_bids_df(data):\n",
    "    bids_df = (\n",
    "        data[data[\"xi\"] == 1]\n",
    "        .groupby([\"deliveryPeriodIndex\", \"timeStepIndex\", \"pvIndex\"])\n",
    "        .agg(\n",
    "            {\n",
    "                \"bid\": lambda x: x.tolist(),\n",
    "                \"isExposed\": lambda x: x.tolist(),\n",
    "                \"cost\": lambda x: x.tolist(),\n",
    "            }\n",
    "        )\n",
    "    )\n",
    "    bids_df.reset_index(inplace=True)\n",
    "    bids_df = bids_df.groupby([\"deliveryPeriodIndex\", \"timeStepIndex\"]).agg(\n",
    "        {\n",
    "            \"bid\": lambda x: x.tolist(),\n",
    "            \"isExposed\": lambda x: x.tolist(),\n",
    "            \"cost\": lambda x: x.tolist(),\n",
    "        }\n",
    "    )\n",
    "    bids_df.reset_index(inplace=True)\n",
    "    return bids_df\n",
    "\n",
    "bids_df = generate_bids_df(df)"
   ]
  },
  {
   "cell_type": "code",
   "execution_count": null,
   "metadata": {},
   "outputs": [],
   "source": [
    "bids_df.head()"
   ]
  },
  {
   "cell_type": "code",
   "execution_count": null,
   "metadata": {},
   "outputs": [],
   "source": [
    "# Sort bid, isExposed, and cost according to bid\n",
    "bids_df[\"positions\"] = bids_df.apply(lambda x: np.argsort(x.bid), axis=1)\n",
    "\n",
    "def reorder_list_of_lists(lst, positions):\n",
    "    array_of_lists = np.array(lst)\n",
    "    reordered_array = np.take_along_axis(array_of_lists, positions, axis=1)\n",
    "    reordered_lists = reordered_array.tolist()\n",
    "    return reordered_lists\n",
    "\n",
    "bids_df[\"bid\"] = bids_df.apply(lambda x: reorder_list_of_lists(x.bid, x.positions), axis=1)\n",
    "bids_df[\"isExposed\"] = bids_df.apply(lambda x: reorder_list_of_lists(x.isExposed, x.positions), axis=1)\n",
    "bids_df[\"cost\"] = bids_df.apply(lambda x: reorder_list_of_lists(x.cost, x.positions), axis=1)\n",
    "bids_df.drop(columns=[\"positions\"], inplace=True)\n",
    "bids_df.head()\n"
   ]
  },
  {
   "cell_type": "code",
   "execution_count": null,
   "metadata": {},
   "outputs": [],
   "source": [
    "exposed_mat = np.vstack(bids_df.isExposed.apply(np.vstack).tolist())\n",
    "\n",
    "exposition_mean = np.mean(exposed_mat, axis=0)\n",
    "print(exposition_mean)"
   ]
  },
  {
   "cell_type": "code",
   "execution_count": null,
   "metadata": {},
   "outputs": [],
   "source": [
    "np.array(bids_df[bids_df.timeStepIndex == 0].bid.item()).T"
   ]
  },
  {
   "cell_type": "code",
   "execution_count": null,
   "metadata": {},
   "outputs": [],
   "source": [
    "top_bids = np.array(bids_df.loc[0].bid)\n",
    "my_bid = np.random.randn(len(top_bids))\n",
    "\n",
    "(my_bid > top_bids.T).any(axis=0)"
   ]
  }
 ],
 "metadata": {
  "kernelspec": {
   "display_name": "alibaba",
   "language": "python",
   "name": "python3"
  },
  "language_info": {
   "codemirror_mode": {
    "name": "ipython",
    "version": 3
   },
   "file_extension": ".py",
   "mimetype": "text/x-python",
   "name": "python",
   "nbconvert_exporter": "python",
   "pygments_lexer": "ipython3",
   "version": "3.9.12"
  }
 },
 "nbformat": 4,
 "nbformat_minor": 2
}
