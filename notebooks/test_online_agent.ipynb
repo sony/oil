{
 "cells": [
  {
   "cell_type": "code",
   "execution_count": null,
   "metadata": {},
   "outputs": [],
   "source": [
    "import sys\n",
    "sys.path.append('..')\n",
    "\n",
    "import pandas as pd\n",
    "import numpy as np\n",
    "import ast\n",
    "from online.envs.bidding_env import BiddingEnv\n",
    "from definitions import ROOT_DIR\n"
   ]
  },
  {
   "cell_type": "code",
   "execution_count": null,
   "metadata": {},
   "outputs": [],
   "source": [
    "from bidding_train_env.strategy import PlayerBiddingStrategy"
   ]
  },
  {
   "cell_type": "code",
   "execution_count": null,
   "metadata": {},
   "outputs": [],
   "source": [
    "strategy = PlayerBiddingStrategy()"
   ]
  },
  {
   "cell_type": "code",
   "execution_count": null,
   "metadata": {},
   "outputs": [],
   "source": [
    "action = np.random.randn(6) * 0.1\n",
    "pvalues = np.random.uniform(low=0, high=0.01, size=3)\n",
    "pvalues_sigmas = np.random.uniform(low=0, high=0.01, size=3)\n",
    "\n",
    "print(pvalues)\n",
    "coefs = strategy.train_env.compute_bid_coef(action, pvalues, pvalues_sigmas)\n",
    "print(coefs)"
   ]
  },
  {
   "cell_type": "code",
   "execution_count": null,
   "metadata": {},
   "outputs": [],
   "source": [
    "strategy.train_env.obs_keys"
   ]
  },
  {
   "cell_type": "code",
   "execution_count": null,
   "metadata": {},
   "outputs": [],
   "source": [
    "train_data_path = (\n",
    "    ROOT_DIR / \"data/traffic_top_regression/training_data_16/training_data_all-rlData.csv\"\n",
    ")\n",
    "training_data = pd.read_csv(train_data_path)"
   ]
  },
  {
   "cell_type": "code",
   "execution_count": null,
   "metadata": {},
   "outputs": [],
   "source": [
    "def safe_literal_eval(val):\n",
    "    if pd.isna(val):\n",
    "        return val  # 如果是NaN，返回NaN\n",
    "    try:\n",
    "        return ast.literal_eval(val)\n",
    "    except (ValueError, SyntaxError):\n",
    "        print(ValueError)\n",
    "        return val "
   ]
  },
  {
   "cell_type": "code",
   "execution_count": null,
   "metadata": {},
   "outputs": [],
   "source": [
    "training_data[\"state\"] = training_data[\"state\"].apply(lambda x: np.array(safe_literal_eval(x)))\n",
    "training_data[\"next_state\"] = training_data[\"next_state\"].apply(lambda x: np.array(safe_literal_eval(x)))\n",
    "training_data.head()"
   ]
  },
  {
   "cell_type": "code",
   "execution_count": null,
   "metadata": {},
   "outputs": [],
   "source": [
    "training_data.advertiserNumber.unique()"
   ]
  },
  {
   "cell_type": "code",
   "execution_count": null,
   "metadata": {},
   "outputs": [],
   "source": [
    "pvalues_path = ROOT_DIR / \"data\" / \"online_rl_data\" / \"period-7_pvalues.parquet\"\n",
    "bids_path = ROOT_DIR / \"data\" / \"online_rl_data\" / \"period-7_bids.parquet\"\n",
    "\n",
    "budget_range = (500, 3000)\n",
    "target_cpa_range = (10, 12)\n",
    "seed = 42\n",
    "\n",
    "keys_list = [\n",
    "    \"time_left\",\n",
    "    \"budget_left\",\n",
    "    \"budget\",\n",
    "    \"cpa\",\n",
    "    \"category\",\n",
    "    \"historical_bid_mean\",\n",
    "    \"last_bid_mean\",\n",
    "    \"last_three_bid_mean\",\n",
    "    \"least_winning_cost_mean\",\n",
    "    \"last_least_winning_cost_mean\",\n",
    "    \"last_three_least_winning_cost_mean\",\n",
    "    \"least_winning_cost_10_pct\",\n",
    "    \"last_least_winning_cost_10_pct\",\n",
    "    \"last_three_least_winning_cost_10_pct\",\n",
    "    \"least_winning_cost_01_pct\",\n",
    "    \"last_least_winning_cost_01_pct\",\n",
    "    \"last_three_least_winning_cost_01_pct\",\n",
    "    \"pvalues_mean\",\n",
    "    \"conversion_mean\",\n",
    "    \"bid_success_mean\",\n",
    "    \"last_pvalues_mean\",\n",
    "    \"last_three_pvalues_mean\",\n",
    "    \"last_conversion_mean\",\n",
    "    \"last_three_conversion_mean\",\n",
    "    \"last_bid_success\",\n",
    "    \"last_three_bid_success_mean\",\n",
    "    \"historical_successful_bid_position_mean\",\n",
    "    \"last_successful_bid_position_mean\",\n",
    "    \"last_three_successful_bid_position_mean\",\n",
    "    \"historical_cost_mean\",\n",
    "    \"last_cost_mean\",\n",
    "    \"last_three_cost_mean\",\n",
    "    \"historical_cost_slot_1_mean\",\n",
    "    \"last_cost_slot_1_mean\",\n",
    "    \"last_three_cost_slot_1_mean\",\n",
    "    \"historical_cost_slot_2_mean\",\n",
    "    \"last_cost_slot_2_mean\",\n",
    "    \"last_three_cost_slot_2_mean\",\n",
    "    \"historical_cost_slot_3_mean\",\n",
    "    \"last_cost_slot_3_mean\",\n",
    "    \"last_three_cost_slot_3_mean\",\n",
    "    \"historical_bid_over_lwc_mean\",\n",
    "    \"last_bid_over_lwc_mean\",\n",
    "    \"last_three_bid_over_lwc_mean\",\n",
    "    \"historical_pv_over_lwc_mean\",\n",
    "    \"last_pv_over_lwc_mean\",\n",
    "    \"last_three_pv_over_lwc_mean\",\n",
    "    \"historical_pv_over_lwc_90_pct\",\n",
    "    \"last_pv_over_lwc_90_pct\",\n",
    "    \"last_three_pv_over_lwc_90_pct\",\n",
    "    \"historical_pv_over_lwc_99_pct\",\n",
    "    \"last_pv_over_lwc_99_pct\",\n",
    "    \"last_three_pv_over_lwc_99_pct\",\n",
    "    \"current_pvalues_mean\",\n",
    "    \"current_pvalues_90_pct\",\n",
    "    \"current_pvalues_99_pct\",\n",
    "    \"current_pv_num\",\n",
    "    \"last_pv_num\",\n",
    "    \"last_three_pv_num\",\n",
    "    \"pv_num_total\"\n",
    "]\n",
    "\n",
    "env = BiddingEnv(pvalues_path, bids_path, budget_range, target_cpa_range, obs_keys=keys_list, seed=seed)"
   ]
  },
  {
   "cell_type": "code",
   "execution_count": null,
   "metadata": {},
   "outputs": [],
   "source": [
    "len(keys_list)"
   ]
  },
  {
   "cell_type": "code",
   "execution_count": null,
   "metadata": {},
   "outputs": [],
   "source": [
    "advertiser = 8\n",
    "delivery_period = 7\n",
    "budget = training_data[(training_data[\"advertiserNumber\"] == advertiser) & (training_data[\"deliveryPeriodIndex\"] == delivery_period)][\"budget\"].mean()\n",
    "target_cpa = training_data[(training_data[\"advertiserNumber\"] == advertiser) & (training_data[\"deliveryPeriodIndex\"] == delivery_period)][\"CPAConstraint\"].mean()\n",
    "print(budget, target_cpa)"
   ]
  },
  {
   "cell_type": "code",
   "execution_count": null,
   "metadata": {},
   "outputs": [],
   "source": [
    "state, _ = env.reset(budget, target_cpa, advertiser, delivery_period)\n",
    "ts = 0\n"
   ]
  },
  {
   "cell_type": "code",
   "execution_count": null,
   "metadata": {},
   "outputs": [],
   "source": [
    "action = training_data[(training_data[\"advertiserNumber\"] == advertiser) & (training_data[\"deliveryPeriodIndex\"] == delivery_period) & (training_data[\"timeStepIndex\"] == ts)][\"action\"].item()\n",
    "action = action * 1.001  # Otherwise it ties whith itself when it made the third bid\n",
    "state, reward, truncated, terminated, info = env.step(action / target_cpa)\n",
    "ts += 1\n",
    "print(ts)"
   ]
  },
  {
   "cell_type": "code",
   "execution_count": null,
   "metadata": {},
   "outputs": [],
   "source": [
    "pvalues, _ = env.get_pvalues_mean_and_std()\n",
    "state_dict = env.get_state_dict(pvalues)\n",
    "state_dict"
   ]
  },
  {
   "cell_type": "code",
   "execution_count": null,
   "metadata": {},
   "outputs": [],
   "source": [
    "state"
   ]
  },
  {
   "cell_type": "code",
   "execution_count": null,
   "metadata": {},
   "outputs": [],
   "source": [
    "state = training_data[(training_data[\"advertiserNumber\"] == advertiser) & (training_data[\"deliveryPeriodIndex\"] == delivery_period) & (training_data[\"timeStepIndex\"] == ts)][\"state\"].item()\n",
    "state"
   ]
  },
  {
   "cell_type": "code",
   "execution_count": null,
   "metadata": {},
   "outputs": [],
   "source": [
    "df = env.pvalues_df\n",
    "ts_df = df[(df[\"advertiserNumber\"] == advertiser) & (df[\"timeStepIndex\"] == ts)]\n",
    "pv = ts_df.pValue.item()\n",
    "bids = action * pv"
   ]
  },
  {
   "cell_type": "code",
   "execution_count": null,
   "metadata": {},
   "outputs": [],
   "source": [
    "raw_data_path = ROOT_DIR / \"data\" / \"raw_traffic\" / \"period-7.csv\"\n",
    "raw_df = pd.read_csv(raw_data_path)"
   ]
  },
  {
   "cell_type": "code",
   "execution_count": null,
   "metadata": {},
   "outputs": [],
   "source": [
    "prev_ts_df = raw_df[(raw_df[\"advertiserNumber\"] == advertiser) & (raw_df[\"timeStepIndex\"] == ts - 1)]\n",
    "raw_pv = prev_ts_df.pValue.to_numpy()\n",
    "raw_bids = action * raw_pv"
   ]
  },
  {
   "cell_type": "code",
   "execution_count": null,
   "metadata": {},
   "outputs": [],
   "source": [
    "prev_ts_df.xi.mean()"
   ]
  },
  {
   "cell_type": "code",
   "execution_count": null,
   "metadata": {},
   "outputs": [],
   "source": [
    "raw_min_cost = prev_ts_df.leastWinningCost\n",
    "raw_xi = raw_bids > raw_min_cost\n",
    "strange_df = prev_ts_df[(raw_xi) & (~prev_ts_df.xi.apply(bool))]"
   ]
  },
  {
   "cell_type": "code",
   "execution_count": null,
   "metadata": {},
   "outputs": [],
   "source": [
    "raw_bids.shape"
   ]
  },
  {
   "cell_type": "code",
   "execution_count": null,
   "metadata": {},
   "outputs": [],
   "source": [
    "prev_ts_df[raw_bids > prev_ts_df.bid]"
   ]
  },
  {
   "cell_type": "code",
   "execution_count": null,
   "metadata": {},
   "outputs": [],
   "source": [
    "strange_df.bid > strange_df.leastWinningCost"
   ]
  },
  {
   "cell_type": "code",
   "execution_count": null,
   "metadata": {},
   "outputs": [],
   "source": [
    "raw_df[(raw_df[\"timeStepIndex\"] == ts - 1) & (raw_df.pvIndex == 1287)].sort_values(\"bid\", ascending=False)"
   ]
  },
  {
   "cell_type": "code",
   "execution_count": null,
   "metadata": {},
   "outputs": [],
   "source": [
    "raw_df.head()"
   ]
  },
  {
   "cell_type": "code",
   "execution_count": null,
   "metadata": {},
   "outputs": [],
   "source": [
    "import matplotlib.pyplot as plt\n",
    "import numpy as np\n",
    "\n",
    "x = np.linspace(0, 0.01, 100)\n",
    "y = np.sqrt(x)\n",
    "# plt.plot(x, y)\n",
    "plt.plot(x, x)\n",
    "plt.plot(x, 1. * x + 0.0 * y - 10 * x **2)"
   ]
  }
 ],
 "metadata": {
  "kernelspec": {
   "display_name": "alibaba",
   "language": "python",
   "name": "python3"
  },
  "language_info": {
   "codemirror_mode": {
    "name": "ipython",
    "version": 3
   },
   "file_extension": ".py",
   "mimetype": "text/x-python",
   "name": "python",
   "nbconvert_exporter": "python",
   "pygments_lexer": "ipython3",
   "version": "3.9.12"
  }
 },
 "nbformat": 4,
 "nbformat_minor": 2
}
