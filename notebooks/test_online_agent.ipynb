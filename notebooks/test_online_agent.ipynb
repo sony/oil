{
 "cells": [
  {
   "cell_type": "code",
   "execution_count": 1,
   "metadata": {},
   "outputs": [],
   "source": [
    "import sys\n",
    "sys.path.append('..')\n",
    "\n",
    "import pandas as pd\n",
    "import numpy as np\n",
    "import ast\n",
    "from online.envs.bidding_env import BiddingEnv\n",
    "from definitions import ROOT_DIR\n"
   ]
  },
  {
   "cell_type": "code",
   "execution_count": 2,
   "metadata": {},
   "outputs": [],
   "source": [
    "from bidding_train_env.strategy import PlayerBiddingStrategy"
   ]
  },
  {
   "cell_type": "code",
   "execution_count": 3,
   "metadata": {},
   "outputs": [
    {
     "name": "stdout",
     "output_type": "stream",
     "text": [
      "Warning: creating a dummy environment with no dataset\n",
      "env path /home/ubuntu/Dev/NeurIPS_Auto_Bidding_General_Track_Baseline/saved_model/PPO/033_ppo_seed_0_dense_base_ranges_29_obs_exp_multi_action/rl_model_vecnormalize_3500000_steps.pkl\n"
     ]
    },
    {
     "name": "stderr",
     "output_type": "stream",
     "text": [
      "/home/ubuntu/miniforge3/envs/alibaba/lib/python3.9/site-packages/gymnasium/envs/registration.py:694: UserWarning: \u001b[33mWARN: Overriding environment BiddingEnv-v0 already in registry.\u001b[0m\n",
      "  logger.warn(f\"Overriding environment {new_spec.id} already in registry.\")\n"
     ]
    }
   ],
   "source": [
    "strategy = PlayerBiddingStrategy()"
   ]
  },
  {
   "cell_type": "code",
   "execution_count": 59,
   "metadata": {},
   "outputs": [
    {
     "name": "stdout",
     "output_type": "stream",
     "text": [
      "[9.88351357e-05 8.00312323e-03 6.15944742e-04]\n",
      "[0.         0.00437156 0.        ]\n"
     ]
    }
   ],
   "source": [
    "action = np.random.randn(6) * 0.1\n",
    "pvalues = np.random.uniform(low=0, high=0.01, size=3)\n",
    "pvalues_sigmas = np.random.uniform(low=0, high=0.01, size=3)\n",
    "\n",
    "print(pvalues)\n",
    "coefs = strategy.train_env.compute_bid_coef(action, pvalues, pvalues_sigmas)\n",
    "print(coefs)"
   ]
  },
  {
   "cell_type": "code",
   "execution_count": 68,
   "metadata": {},
   "outputs": [
    {
     "name": "stderr",
     "output_type": "stream",
     "text": [
      "/home/ubuntu/miniforge3/envs/alibaba/lib/python3.9/site-packages/gymnasium/core.py:311: UserWarning: \u001b[33mWARN: env.obs_keys to get variables from other wrappers is deprecated and will be removed in v1.0, to get this variable you can do `env.unwrapped.obs_keys` for environment variables or `env.get_wrapper_attr('obs_keys')` that will search the reminding wrappers.\u001b[0m\n",
      "  logger.warn(\n"
     ]
    },
    {
     "data": {
      "text/plain": [
       "['time_left',\n",
       " 'budget_left',\n",
       " 'budget',\n",
       " 'cpa',\n",
       " 'category',\n",
       " 'historical_bid_mean',\n",
       " 'last_three_bid_mean',\n",
       " 'least_winning_cost_mean',\n",
       " 'last_least_winning_cost_mean',\n",
       " 'last_three_least_winning_cost_mean',\n",
       " 'pvalues_mean',\n",
       " 'conversion_mean',\n",
       " 'bid_success_mean',\n",
       " 'last_pvalues_mean',\n",
       " 'last_three_pvalues_mean',\n",
       " 'last_conversion_mean',\n",
       " 'last_three_conversion_mean',\n",
       " 'last_bid_success',\n",
       " 'last_three_bid_success_mean',\n",
       " 'current_pvalues_mean',\n",
       " 'current_pv_num',\n",
       " 'last_three_pv_num',\n",
       " 'pv_num_total',\n",
       " 'historical_bid_over_lwc_mean',\n",
       " 'last_bid_over_lwc_mean',\n",
       " 'last_three_bid_over_lwc_mean',\n",
       " 'historical_pv_over_lwc_mean',\n",
       " 'last_pv_over_lwc_mean',\n",
       " 'last_three_pv_over_lwc_mean']"
      ]
     },
     "execution_count": 68,
     "metadata": {},
     "output_type": "execute_result"
    }
   ],
   "source": [
    "strategy.train_env.obs_keys"
   ]
  },
  {
   "cell_type": "code",
   "execution_count": 2,
   "metadata": {},
   "outputs": [],
   "source": [
    "train_data_path = (\n",
    "    ROOT_DIR / \"data/traffic_top_regression/training_data_16/training_data_all-rlData.csv\"\n",
    ")\n",
    "training_data = pd.read_csv(train_data_path)"
   ]
  },
  {
   "cell_type": "code",
   "execution_count": 3,
   "metadata": {},
   "outputs": [],
   "source": [
    "def safe_literal_eval(val):\n",
    "    if pd.isna(val):\n",
    "        return val  # 如果是NaN，返回NaN\n",
    "    try:\n",
    "        return ast.literal_eval(val)\n",
    "    except (ValueError, SyntaxError):\n",
    "        print(ValueError)\n",
    "        return val "
   ]
  },
  {
   "cell_type": "code",
   "execution_count": 4,
   "metadata": {},
   "outputs": [
    {
     "data": {
      "text/html": [
       "<div>\n",
       "<style scoped>\n",
       "    .dataframe tbody tr th:only-of-type {\n",
       "        vertical-align: middle;\n",
       "    }\n",
       "\n",
       "    .dataframe tbody tr th {\n",
       "        vertical-align: top;\n",
       "    }\n",
       "\n",
       "    .dataframe thead th {\n",
       "        text-align: right;\n",
       "    }\n",
       "</style>\n",
       "<table border=\"1\" class=\"dataframe\">\n",
       "  <thead>\n",
       "    <tr style=\"text-align: right;\">\n",
       "      <th></th>\n",
       "      <th>deliveryPeriodIndex</th>\n",
       "      <th>advertiserNumber</th>\n",
       "      <th>advertiserCategoryIndex</th>\n",
       "      <th>budget</th>\n",
       "      <th>CPAConstraint</th>\n",
       "      <th>timeStepIndex</th>\n",
       "      <th>state</th>\n",
       "      <th>action</th>\n",
       "      <th>reward</th>\n",
       "      <th>reward_continuous</th>\n",
       "      <th>done</th>\n",
       "      <th>next_state</th>\n",
       "    </tr>\n",
       "  </thead>\n",
       "  <tbody>\n",
       "    <tr>\n",
       "      <th>0</th>\n",
       "      <td>7.0</td>\n",
       "      <td>0.0</td>\n",
       "      <td>0.0</td>\n",
       "      <td>750.0</td>\n",
       "      <td>8.0</td>\n",
       "      <td>0.0</td>\n",
       "      <td>[1.0, 1.0, 0.0, 0.0, 0.0, 0.0, 0.0, 0.0, 0.0, ...</td>\n",
       "      <td>15.000000</td>\n",
       "      <td>8.581538</td>\n",
       "      <td>9.442710</td>\n",
       "      <td>0</td>\n",
       "      <td>[0.9791666666666666, 0.65502864, 0.09134144335...</td>\n",
       "    </tr>\n",
       "    <tr>\n",
       "      <th>1</th>\n",
       "      <td>7.0</td>\n",
       "      <td>0.0</td>\n",
       "      <td>0.0</td>\n",
       "      <td>750.0</td>\n",
       "      <td>8.0</td>\n",
       "      <td>1.0</td>\n",
       "      <td>[0.9791666666666666, 0.65502864, 0.09134144335...</td>\n",
       "      <td>17.999998</td>\n",
       "      <td>0.943003</td>\n",
       "      <td>1.923260</td>\n",
       "      <td>0</td>\n",
       "      <td>[0.9583333333333334, 0.5264538, 0.101064443588...</td>\n",
       "    </tr>\n",
       "    <tr>\n",
       "      <th>2</th>\n",
       "      <td>7.0</td>\n",
       "      <td>0.0</td>\n",
       "      <td>0.0</td>\n",
       "      <td>750.0</td>\n",
       "      <td>8.0</td>\n",
       "      <td>2.0</td>\n",
       "      <td>[0.9583333333333334, 0.5264538, 0.101064443588...</td>\n",
       "      <td>12.599999</td>\n",
       "      <td>0.526889</td>\n",
       "      <td>0.559534</td>\n",
       "      <td>0</td>\n",
       "      <td>[0.9375, 0.5100286, 0.09262432406346004, 0.092...</td>\n",
       "    </tr>\n",
       "    <tr>\n",
       "      <th>3</th>\n",
       "      <td>7.0</td>\n",
       "      <td>0.0</td>\n",
       "      <td>0.0</td>\n",
       "      <td>750.0</td>\n",
       "      <td>8.0</td>\n",
       "      <td>3.0</td>\n",
       "      <td>[0.9375, 0.5100286, 0.09262432406346004, 0.092...</td>\n",
       "      <td>8.820001</td>\n",
       "      <td>0.000000</td>\n",
       "      <td>0.012200</td>\n",
       "      <td>0</td>\n",
       "      <td>[0.9166666666666666, 0.50986165, 0.08278862666...</td>\n",
       "    </tr>\n",
       "    <tr>\n",
       "      <th>4</th>\n",
       "      <td>7.0</td>\n",
       "      <td>0.0</td>\n",
       "      <td>0.0</td>\n",
       "      <td>750.0</td>\n",
       "      <td>8.0</td>\n",
       "      <td>4.0</td>\n",
       "      <td>[0.9166666666666666, 0.50986165, 0.08278862666...</td>\n",
       "      <td>10.584000</td>\n",
       "      <td>0.000000</td>\n",
       "      <td>0.235186</td>\n",
       "      <td>0</td>\n",
       "      <td>[0.8958333333333334, 0.50575984, 0.07883444949...</td>\n",
       "    </tr>\n",
       "  </tbody>\n",
       "</table>\n",
       "</div>"
      ],
      "text/plain": [
       "   deliveryPeriodIndex  advertiserNumber  advertiserCategoryIndex  budget  \\\n",
       "0                  7.0               0.0                      0.0   750.0   \n",
       "1                  7.0               0.0                      0.0   750.0   \n",
       "2                  7.0               0.0                      0.0   750.0   \n",
       "3                  7.0               0.0                      0.0   750.0   \n",
       "4                  7.0               0.0                      0.0   750.0   \n",
       "\n",
       "   CPAConstraint  timeStepIndex  \\\n",
       "0            8.0            0.0   \n",
       "1            8.0            1.0   \n",
       "2            8.0            2.0   \n",
       "3            8.0            3.0   \n",
       "4            8.0            4.0   \n",
       "\n",
       "                                               state     action    reward  \\\n",
       "0  [1.0, 1.0, 0.0, 0.0, 0.0, 0.0, 0.0, 0.0, 0.0, ...  15.000000  8.581538   \n",
       "1  [0.9791666666666666, 0.65502864, 0.09134144335...  17.999998  0.943003   \n",
       "2  [0.9583333333333334, 0.5264538, 0.101064443588...  12.599999  0.526889   \n",
       "3  [0.9375, 0.5100286, 0.09262432406346004, 0.092...   8.820001  0.000000   \n",
       "4  [0.9166666666666666, 0.50986165, 0.08278862666...  10.584000  0.000000   \n",
       "\n",
       "   reward_continuous  done                                         next_state  \n",
       "0           9.442710     0  [0.9791666666666666, 0.65502864, 0.09134144335...  \n",
       "1           1.923260     0  [0.9583333333333334, 0.5264538, 0.101064443588...  \n",
       "2           0.559534     0  [0.9375, 0.5100286, 0.09262432406346004, 0.092...  \n",
       "3           0.012200     0  [0.9166666666666666, 0.50986165, 0.08278862666...  \n",
       "4           0.235186     0  [0.8958333333333334, 0.50575984, 0.07883444949...  "
      ]
     },
     "execution_count": 4,
     "metadata": {},
     "output_type": "execute_result"
    }
   ],
   "source": [
    "training_data[\"state\"] = training_data[\"state\"].apply(lambda x: np.array(safe_literal_eval(x)))\n",
    "training_data[\"next_state\"] = training_data[\"next_state\"].apply(lambda x: np.array(safe_literal_eval(x)))\n",
    "training_data.head()"
   ]
  },
  {
   "cell_type": "code",
   "execution_count": 5,
   "metadata": {},
   "outputs": [
    {
     "data": {
      "text/plain": [
       "array([ 0.,  7.,  8., 12., 13., 16., 17., 20., 22., 26., 30., 32., 33.,\n",
       "       34., 38., 39., 45., 46., 47.,  5.,  9., 21., 28., 37., 41., 43.,\n",
       "        2.,  3., 23., 24., 31., 35., 40., 44., 19., 42., 10., 14., 15.,\n",
       "       36.,  6.,  1.,  4., 27., 29.])"
      ]
     },
     "execution_count": 5,
     "metadata": {},
     "output_type": "execute_result"
    }
   ],
   "source": [
    "training_data.advertiserNumber.unique()"
   ]
  },
  {
   "cell_type": "code",
   "execution_count": 6,
   "metadata": {},
   "outputs": [
    {
     "name": "stdout",
     "output_type": "stream",
     "text": [
      "Loading pvalues from /home/ubuntu/Dev/NeurIPS_Auto_Bidding_General_Track_Baseline/data/online_rl_data/period-7_pvalues.parquet\n",
      "Loading bids from /home/ubuntu/Dev/NeurIPS_Auto_Bidding_General_Track_Baseline/data/online_rl_data/period-7_bids.parquet\n"
     ]
    }
   ],
   "source": [
    "pvalues_path = ROOT_DIR / \"data\" / \"online_rl_data\" / \"period-7_pvalues.parquet\"\n",
    "bids_path = ROOT_DIR / \"data\" / \"online_rl_data\" / \"period-7_bids.parquet\"\n",
    "\n",
    "budget_range = (500, 3000)\n",
    "target_cpa_range = (10, 12)\n",
    "seed = 42\n",
    "\n",
    "keys_list = [\n",
    "    \"time_left\",\n",
    "    \"budget_left\",\n",
    "    \"budget\",\n",
    "    \"cpa\",\n",
    "    \"category\",\n",
    "    \"historical_bid_mean\",\n",
    "    \"last_bid_mean\",\n",
    "    \"last_three_bid_mean\",\n",
    "    \"least_winning_cost_mean\",\n",
    "    \"last_least_winning_cost_mean\",\n",
    "    \"last_three_least_winning_cost_mean\",\n",
    "    \"least_winning_cost_10_pct\",\n",
    "    \"last_least_winning_cost_10_pct\",\n",
    "    \"last_three_least_winning_cost_10_pct\",\n",
    "    \"least_winning_cost_01_pct\",\n",
    "    \"last_least_winning_cost_01_pct\",\n",
    "    \"last_three_least_winning_cost_01_pct\",\n",
    "    \"pvalues_mean\",\n",
    "    \"conversion_mean\",\n",
    "    \"bid_success_mean\",\n",
    "    \"last_pvalues_mean\",\n",
    "    \"last_three_pvalues_mean\",\n",
    "    \"last_conversion_mean\",\n",
    "    \"last_three_conversion_mean\",\n",
    "    \"last_bid_success\",\n",
    "    \"last_three_bid_success_mean\",\n",
    "    \"historical_successful_bid_position_mean\",\n",
    "    \"last_successful_bid_position_mean\",\n",
    "    \"last_three_successful_bid_position_mean\",\n",
    "    \"historical_cost_mean\",\n",
    "    \"last_cost_mean\",\n",
    "    \"last_three_cost_mean\",\n",
    "    \"historical_cost_slot_1_mean\",\n",
    "    \"last_cost_slot_1_mean\",\n",
    "    \"last_three_cost_slot_1_mean\",\n",
    "    \"historical_cost_slot_2_mean\",\n",
    "    \"last_cost_slot_2_mean\",\n",
    "    \"last_three_cost_slot_2_mean\",\n",
    "    \"historical_cost_slot_3_mean\",\n",
    "    \"last_cost_slot_3_mean\",\n",
    "    \"last_three_cost_slot_3_mean\",\n",
    "    \"historical_bid_over_lwc_mean\",\n",
    "    \"last_bid_over_lwc_mean\",\n",
    "    \"last_three_bid_over_lwc_mean\",\n",
    "    \"historical_pv_over_lwc_mean\",\n",
    "    \"last_pv_over_lwc_mean\",\n",
    "    \"last_three_pv_over_lwc_mean\",\n",
    "    \"historical_pv_over_lwc_90_pct\",\n",
    "    \"last_pv_over_lwc_90_pct\",\n",
    "    \"last_three_pv_over_lwc_90_pct\",\n",
    "    \"historical_pv_over_lwc_99_pct\",\n",
    "    \"last_pv_over_lwc_99_pct\",\n",
    "    \"last_three_pv_over_lwc_99_pct\",\n",
    "    \"current_pvalues_mean\",\n",
    "    \"current_pvalues_90_pct\",\n",
    "    \"current_pvalues_99_pct\",\n",
    "    \"current_pv_num\",\n",
    "    \"last_pv_num\",\n",
    "    \"last_three_pv_num\",\n",
    "    \"pv_num_total\"\n",
    "]\n",
    "\n",
    "env = BiddingEnv(pvalues_path, bids_path, budget_range, target_cpa_range, obs_keys=keys_list, seed=seed)"
   ]
  },
  {
   "cell_type": "code",
   "execution_count": 15,
   "metadata": {},
   "outputs": [
    {
     "data": {
      "text/plain": [
       "60"
      ]
     },
     "execution_count": 15,
     "metadata": {},
     "output_type": "execute_result"
    }
   ],
   "source": [
    "len(keys_list)"
   ]
  },
  {
   "cell_type": "code",
   "execution_count": 7,
   "metadata": {},
   "outputs": [
    {
     "name": "stdout",
     "output_type": "stream",
     "text": [
      "1500.0 7.0\n"
     ]
    }
   ],
   "source": [
    "advertiser = 8\n",
    "delivery_period = 7\n",
    "budget = training_data[(training_data[\"advertiserNumber\"] == advertiser) & (training_data[\"deliveryPeriodIndex\"] == delivery_period)][\"budget\"].mean()\n",
    "target_cpa = training_data[(training_data[\"advertiserNumber\"] == advertiser) & (training_data[\"deliveryPeriodIndex\"] == delivery_period)][\"CPAConstraint\"].mean()\n",
    "print(budget, target_cpa)"
   ]
  },
  {
   "cell_type": "code",
   "execution_count": 8,
   "metadata": {},
   "outputs": [],
   "source": [
    "state, _ = env.reset(budget, target_cpa, advertiser, delivery_period)\n",
    "ts = 0\n"
   ]
  },
  {
   "cell_type": "code",
   "execution_count": 13,
   "metadata": {},
   "outputs": [
    {
     "name": "stdout",
     "output_type": "stream",
     "text": [
      "5\n"
     ]
    }
   ],
   "source": [
    "action = training_data[(training_data[\"advertiserNumber\"] == advertiser) & (training_data[\"deliveryPeriodIndex\"] == delivery_period) & (training_data[\"timeStepIndex\"] == ts)][\"action\"].item()\n",
    "action = action * 1.001  # Otherwise it ties whith itself when it made the third bid\n",
    "state, reward, truncated, terminated, info = env.step(action / target_cpa)\n",
    "ts += 1\n",
    "print(ts)"
   ]
  },
  {
   "cell_type": "code",
   "execution_count": 14,
   "metadata": {},
   "outputs": [
    {
     "data": {
      "text/plain": [
       "{'time_left': 0.8958333333333334,\n",
       " 'budget_left': 0.8801478531956672,\n",
       " 'budget': 1500.0,\n",
       " 'cpa': 7.0,\n",
       " 'category': 1.0,\n",
       " 'historical_bid_mean': 0.08966984084965748,\n",
       " 'last_bid_mean': 0.09164262177294441,\n",
       " 'last_three_bid_mean': 0.09323720167835671,\n",
       " 'least_winning_cost_mean': 0.14380705495280216,\n",
       " 'last_least_winning_cost_mean': 0.13231172224786397,\n",
       " 'last_three_least_winning_cost_mean': 0.13736090556330902,\n",
       " 'least_winning_cost_10_pct': 0.11766284629702568,\n",
       " 'last_least_winning_cost_10_pct': 0.10989895537495613,\n",
       " 'last_three_least_winning_cost_10_pct': 0.11299687102437019,\n",
       " 'least_winning_cost_01_pct': 0.10134173540771008,\n",
       " 'last_least_winning_cost_01_pct': 0.09633569970726967,\n",
       " 'last_three_least_winning_cost_01_pct': 0.09803702875971794,\n",
       " 'pvalues_mean': 0.00510308291193068,\n",
       " 'conversion_mean': 0.0001654772194209814,\n",
       " 'bid_success_mean': 0.06947536559736261,\n",
       " 'last_pvalues_mean': 0.0050458038831811235,\n",
       " 'last_three_pvalues_mean': 0.005100228033265007,\n",
       " 'last_conversion_mean': 0.0,\n",
       " 'last_three_conversion_mean': 0.00013894678338196472,\n",
       " 'last_bid_success': 0.049102927289896126,\n",
       " 'last_three_bid_success_mean': 0.08948251152368591,\n",
       " 'historical_successful_bid_position_mean': 0.4412181222709365,\n",
       " 'last_successful_bid_position_mean': 0.3942307692307692,\n",
       " 'last_three_successful_bid_position_mean': 0.43136618059986254,\n",
       " 'historical_cost_mean': 0.006947866695591701,\n",
       " 'last_cost_mean': 0.004303698214272264,\n",
       " 'last_three_cost_mean': 0.008899275244609218,\n",
       " 'historical_cost_slot_1_mean': 0.17645121909796244,\n",
       " 'last_cost_slot_1_mean': 0.15403248618046442,\n",
       " 'last_three_cost_slot_1_mean': 0.16869177202147148,\n",
       " 'historical_cost_slot_2_mean': 0.16016794879602014,\n",
       " 'last_cost_slot_2_mean': 0.1412324234843254,\n",
       " 'last_three_cost_slot_2_mean': 0.15654007227434588,\n",
       " 'historical_cost_slot_3_mean': 0.1486169200001858,\n",
       " 'last_cost_slot_3_mean': 0.13337388158672386,\n",
       " 'last_three_cost_slot_3_mean': 0.14420809944557605,\n",
       " 'historical_bid_over_lwc_mean': 0.6349378542814669,\n",
       " 'last_bid_over_lwc_mean': 0.703271911890076,\n",
       " 'last_three_bid_over_lwc_mean': 0.6849656167135997,\n",
       " 'historical_pv_over_lwc_mean': 0.03633278249789536,\n",
       " 'last_pv_over_lwc_mean': 0.03872185316499534,\n",
       " 'last_three_pv_over_lwc_mean': 0.03773788264990605,\n",
       " 'historical_pv_over_lwc_90_pct': 0.05742176146723742,\n",
       " 'last_pv_over_lwc_90_pct': 0.05511415535919304,\n",
       " 'last_three_pv_over_lwc_90_pct': 0.05704703918611787,\n",
       " 'historical_pv_over_lwc_99_pct': 0.072528605048078,\n",
       " 'last_pv_over_lwc_99_pct': 0.0656986629063846,\n",
       " 'last_three_pv_over_lwc_99_pct': 0.07226122806673947,\n",
       " 'current_pvalues_mean': 0.0051771704126007565,\n",
       " 'current_pvalues_90_pct': 0.00873177032917738,\n",
       " 'current_pvalues_99_pct': 0.011636634990572929,\n",
       " 'current_pv_num': 1469,\n",
       " 'last_pv_num': 2118,\n",
       " 'last_three_pv_num': 9535,\n",
       " 'pv_num_total': 27904}"
      ]
     },
     "execution_count": 14,
     "metadata": {},
     "output_type": "execute_result"
    }
   ],
   "source": [
    "pvalues, _ = env.get_pvalues_mean_and_std()\n",
    "state_dict = env.get_state_dict(pvalues)\n",
    "state_dict"
   ]
  },
  {
   "cell_type": "code",
   "execution_count": null,
   "metadata": {},
   "outputs": [],
   "source": [
    "state"
   ]
  },
  {
   "cell_type": "code",
   "execution_count": null,
   "metadata": {},
   "outputs": [],
   "source": [
    "state = training_data[(training_data[\"advertiserNumber\"] == advertiser) & (training_data[\"deliveryPeriodIndex\"] == delivery_period) & (training_data[\"timeStepIndex\"] == ts)][\"state\"].item()\n",
    "state"
   ]
  },
  {
   "cell_type": "code",
   "execution_count": null,
   "metadata": {},
   "outputs": [],
   "source": [
    "df = env.pvalues_df\n",
    "ts_df = df[(df[\"advertiserNumber\"] == advertiser) & (df[\"timeStepIndex\"] == ts)]\n",
    "pv = ts_df.pValue.item()\n",
    "bids = action * pv"
   ]
  },
  {
   "cell_type": "code",
   "execution_count": null,
   "metadata": {},
   "outputs": [],
   "source": [
    "raw_data_path = ROOT_DIR / \"data\" / \"raw_traffic\" / \"period-7.csv\"\n",
    "raw_df = pd.read_csv(raw_data_path)"
   ]
  },
  {
   "cell_type": "code",
   "execution_count": null,
   "metadata": {},
   "outputs": [],
   "source": [
    "prev_ts_df = raw_df[(raw_df[\"advertiserNumber\"] == advertiser) & (raw_df[\"timeStepIndex\"] == ts - 1)]\n",
    "raw_pv = prev_ts_df.pValue.to_numpy()\n",
    "raw_bids = action * raw_pv"
   ]
  },
  {
   "cell_type": "code",
   "execution_count": null,
   "metadata": {},
   "outputs": [],
   "source": [
    "prev_ts_df.xi.mean()"
   ]
  },
  {
   "cell_type": "code",
   "execution_count": null,
   "metadata": {},
   "outputs": [],
   "source": [
    "raw_min_cost = prev_ts_df.leastWinningCost\n",
    "raw_xi = raw_bids > raw_min_cost\n",
    "strange_df = prev_ts_df[(raw_xi) & (~prev_ts_df.xi.apply(bool))]"
   ]
  },
  {
   "cell_type": "code",
   "execution_count": null,
   "metadata": {},
   "outputs": [],
   "source": [
    "raw_bids.shape"
   ]
  },
  {
   "cell_type": "code",
   "execution_count": null,
   "metadata": {},
   "outputs": [],
   "source": [
    "prev_ts_df[raw_bids > prev_ts_df.bid]"
   ]
  },
  {
   "cell_type": "code",
   "execution_count": null,
   "metadata": {},
   "outputs": [],
   "source": [
    "strange_df.bid > strange_df.leastWinningCost"
   ]
  },
  {
   "cell_type": "code",
   "execution_count": null,
   "metadata": {},
   "outputs": [],
   "source": [
    "raw_df[(raw_df[\"timeStepIndex\"] == ts - 1) & (raw_df.pvIndex == 1287)].sort_values(\"bid\", ascending=False)"
   ]
  },
  {
   "cell_type": "code",
   "execution_count": null,
   "metadata": {},
   "outputs": [],
   "source": [
    "raw_df.head()"
   ]
  },
  {
   "cell_type": "code",
   "execution_count": null,
   "metadata": {},
   "outputs": [],
   "source": [
    "import matplotlib.pyplot as plt\n",
    "import numpy as np\n",
    "\n",
    "x = np.linspace(0, 0.01, 100)\n",
    "y = np.sqrt(x)\n",
    "# plt.plot(x, y)\n",
    "plt.plot(x, x)\n",
    "plt.plot(x, 1. * x + 0.0 * y - 10 * x **2)"
   ]
  }
 ],
 "metadata": {
  "kernelspec": {
   "display_name": "alibaba",
   "language": "python",
   "name": "python3"
  },
  "language_info": {
   "codemirror_mode": {
    "name": "ipython",
    "version": 3
   },
   "file_extension": ".py",
   "mimetype": "text/x-python",
   "name": "python",
   "nbconvert_exporter": "python",
   "pygments_lexer": "ipython3",
   "version": "3.9.12"
  }
 },
 "nbformat": 4,
 "nbformat_minor": 2
}
