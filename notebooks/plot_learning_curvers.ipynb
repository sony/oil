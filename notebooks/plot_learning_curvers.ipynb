{
 "cells": [
  {
   "cell_type": "code",
   "execution_count": null,
   "metadata": {},
   "outputs": [],
   "source": [
    "import sys\n",
    "sys.path.append('..')\n",
    "\n",
    "import matplotlib.pyplot as plt\n",
    "from definitions import ROOT_DIR\n",
    "from online.helpers import get_experiment_data\n",
    "from scipy.signal import butter, lfilter\n"
   ]
  },
  {
   "cell_type": "code",
   "execution_count": null,
   "metadata": {},
   "outputs": [],
   "source": [
    "def butter_lowpass(cutoff, fs, order=5):\n",
    "    return butter(order, cutoff, fs=fs, btype=\"low\", analog=False)\n",
    "\n",
    "\n",
    "def butter_lowpass_filter(data, cutoff, fs, order=5):\n",
    "    b, a = butter_lowpass(cutoff, fs, order=order)\n",
    "    y = lfilter(b, a, data)\n",
    "    return y"
   ]
  },
  {
   "cell_type": "code",
   "execution_count": null,
   "metadata": {},
   "outputs": [],
   "source": [
    "tb_dir_name_list = [\"OnPolicyAlgorithm_0\", \"OnPolicyAlgorithm_0\", \"PPO_0\"]\n",
    "experiment_list = [\n",
    "    \"output/training/ongoing/050_onbc_seed_0_new_data_realistic_60_obs_fix_oracle\",\n",
    "    \"output/training/ongoing/053_onbc_seed_0_new_data_realistic_60_obs_resume_050\",\n",
    "    \"output/training/ongoing/042_ppo_seed_0_dense_29_obs_exp_single_action_realistic_auction_new_data\"\n",
    "]\n",
    "color_list = [\"blue\", \"blue\", \"red\"]\n",
    "start_list = [0, 20, 0]\n",
    "label_list = [\"OIL(realistic)\", None, \"PPO\"]"
   ]
  },
  {
   "cell_type": "code",
   "execution_count": null,
   "metadata": {},
   "outputs": [],
   "source": [
    "data_list = []\n",
    "for experiment, tb_dir_name in zip(experiment_list, tb_dir_name_list):\n",
    "    tb_dir_path = ROOT_DIR / experiment / tb_dir_name\n",
    "    data = get_experiment_data(tb_dir_path, \"score\")\n",
    "    data_list.append(data)"
   ]
  },
  {
   "cell_type": "code",
   "execution_count": null,
   "metadata": {},
   "outputs": [],
   "source": [
    "fig, ax = plt.subplots(figsize=(4, 3))\n",
    "for data, color, start, label in zip(data_list, color_list, start_list, label_list):\n",
    "    x = data[\"score\"][\"x\"][0]\n",
    "    y = data[\"score\"][\"y\"][0]\n",
    "    fs = 1\n",
    "    y = butter_lowpass_filter(y, cutoff=0.02, fs=fs, order=1)\n",
    "    ax.plot(x[start:], y[start:], color=color, label=label)\n",
    "ax.set_xlim(0, 1.4e7)\n",
    "ax.set_xlabel(\"Time steps\")\n",
    "ax.set_ylabel(\"Score\")\n",
    "ax.legend(loc=\"lower right\")\n",
    "out_path = ROOT_DIR / \"output\" / \"figures\" / \"ppo_vs_onbc_realistic.png\"\n",
    "out_path.parent.mkdir(parents=True, exist_ok=True)\n",
    "fig.savefig(out_path, bbox_inches=\"tight\", dpi=300)\n",
    "fig.show()\n"
   ]
  },
  {
   "cell_type": "code",
   "execution_count": null,
   "metadata": {},
   "outputs": [],
   "source": [
    "tb_dir_name_list = [\"OnPolicyAlgorithm_0\", \n",
    "                    \"OnPolicyAlgorithm_0\", \n",
    "                    # \"PPO_0\"\n",
    "                    ]\n",
    "experiment_list = [\n",
    "    \"output/training/ongoing/023_onbc_seed_0_new_data_realistic\",\n",
    "    \"output/training/ongoing/029_onbc_seed_0_transformer_new_data_realistic\",\n",
    "    # \"output/training/ongoing/025_ppo_seed_0_60_obs_6_acts_new_data_realistic\",\n",
    "]\n",
    "color_list = [\"blue\", \n",
    "              \"red\",\n",
    "            #   \"green\"\n",
    "              ]\n",
    "start_list = [0, \n",
    "              0, \n",
    "            #   0\n",
    "              ]\n",
    "label_list = [\"OIL\", \n",
    "              \"OIL - transformer\", \n",
    "            #   \"PPO - multi action\"\n",
    "              ]"
   ]
  },
  {
   "cell_type": "code",
   "execution_count": null,
   "metadata": {},
   "outputs": [],
   "source": [
    "data_list = []\n",
    "for experiment, tb_dir_name in zip(experiment_list, tb_dir_name_list):\n",
    "    tb_dir_path = ROOT_DIR / experiment / tb_dir_name\n",
    "    data = get_experiment_data(tb_dir_path, \"score\")\n",
    "    data_list.append(data)"
   ]
  },
  {
   "cell_type": "code",
   "execution_count": null,
   "metadata": {},
   "outputs": [],
   "source": [
    "fig, ax = plt.subplots(figsize=(4, 3))\n",
    "for data, color, start, label in zip(data_list, color_list, start_list, label_list):\n",
    "    x = data[\"score\"][\"x\"][0]\n",
    "    y = data[\"score\"][\"y\"][0]\n",
    "    fs = 1\n",
    "    y = butter_lowpass_filter(y, cutoff=0.02, fs=fs, order=1)\n",
    "    ax.plot(x[start:], y[start:], color=color, label=label)\n",
    "ax.set_xlim(0, 0.2e7)\n",
    "ax.set_xlabel(\"Time steps\")\n",
    "ax.set_ylabel(\"Score\")\n",
    "ax.legend(loc=\"lower right\")\n",
    "out_path = ROOT_DIR / \"output\" / \"figures\" / \"mlp_vs_transformer.png\"\n",
    "out_path.parent.mkdir(parents=True, exist_ok=True)\n",
    "fig.savefig(out_path, bbox_inches=\"tight\", dpi=300)\n",
    "fig.show()\n"
   ]
  }
 ],
 "metadata": {
  "kernelspec": {
   "display_name": "alibaba",
   "language": "python",
   "name": "python3"
  },
  "language_info": {
   "codemirror_mode": {
    "name": "ipython",
    "version": 3
   },
   "file_extension": ".py",
   "mimetype": "text/x-python",
   "name": "python",
   "nbconvert_exporter": "python",
   "pygments_lexer": "ipython3",
   "version": "3.9.12"
  }
 },
 "nbformat": 4,
 "nbformat_minor": 2
}
